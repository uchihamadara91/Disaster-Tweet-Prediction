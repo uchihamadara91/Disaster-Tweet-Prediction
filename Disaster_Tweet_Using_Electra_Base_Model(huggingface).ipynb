{
  "nbformat": 4,
  "nbformat_minor": 0,
  "metadata": {
    "colab": {
      "name": "Disaster Tweet Using Electra Base Model(huggingface).ipynb",
      "provenance": [],
      "collapsed_sections": []
    },
    "kernelspec": {
      "display_name": "Python 3",
      "name": "python3"
    },
    "language_info": {
      "name": "python"
    },
    "accelerator": "GPU",
    "widgets": {
      "application/vnd.jupyter.widget-state+json": {
        "0e48669a1b0c4d87a16d859f3b8fc241": {
          "model_module": "@jupyter-widgets/controls",
          "model_name": "HBoxModel",
          "state": {
            "_view_name": "HBoxView",
            "_dom_classes": [],
            "_model_name": "HBoxModel",
            "_view_module": "@jupyter-widgets/controls",
            "_model_module_version": "1.5.0",
            "_view_count": null,
            "_view_module_version": "1.5.0",
            "box_style": "",
            "layout": "IPY_MODEL_2b9cff8f323d42ce8fa7e017dc846a80",
            "_model_module": "@jupyter-widgets/controls",
            "children": [
              "IPY_MODEL_362ad80059e54b1689ff9d6a0154e99b",
              "IPY_MODEL_95c5b54b62fc424b9cb0d5ee60a7ebb6"
            ]
          }
        },
        "2b9cff8f323d42ce8fa7e017dc846a80": {
          "model_module": "@jupyter-widgets/base",
          "model_name": "LayoutModel",
          "state": {
            "_view_name": "LayoutView",
            "grid_template_rows": null,
            "right": null,
            "justify_content": null,
            "_view_module": "@jupyter-widgets/base",
            "overflow": null,
            "_model_module_version": "1.2.0",
            "_view_count": null,
            "flex_flow": null,
            "width": null,
            "min_width": null,
            "border": null,
            "align_items": null,
            "bottom": null,
            "_model_module": "@jupyter-widgets/base",
            "top": null,
            "grid_column": null,
            "overflow_y": null,
            "overflow_x": null,
            "grid_auto_flow": null,
            "grid_area": null,
            "grid_template_columns": null,
            "flex": null,
            "_model_name": "LayoutModel",
            "justify_items": null,
            "grid_row": null,
            "max_height": null,
            "align_content": null,
            "visibility": null,
            "align_self": null,
            "height": null,
            "min_height": null,
            "padding": null,
            "grid_auto_rows": null,
            "grid_gap": null,
            "max_width": null,
            "order": null,
            "_view_module_version": "1.2.0",
            "grid_template_areas": null,
            "object_position": null,
            "object_fit": null,
            "grid_auto_columns": null,
            "margin": null,
            "display": null,
            "left": null
          }
        },
        "362ad80059e54b1689ff9d6a0154e99b": {
          "model_module": "@jupyter-widgets/controls",
          "model_name": "FloatProgressModel",
          "state": {
            "_view_name": "ProgressView",
            "style": "IPY_MODEL_a0512d66ea1548ba8463a806d0a5edaa",
            "_dom_classes": [],
            "description": "Downloading: 100%",
            "_model_name": "FloatProgressModel",
            "bar_style": "success",
            "max": 231508,
            "_view_module": "@jupyter-widgets/controls",
            "_model_module_version": "1.5.0",
            "value": 231508,
            "_view_count": null,
            "_view_module_version": "1.5.0",
            "orientation": "horizontal",
            "min": 0,
            "description_tooltip": null,
            "_model_module": "@jupyter-widgets/controls",
            "layout": "IPY_MODEL_df1b4f696c1e403ea017b27e3996cb29"
          }
        },
        "95c5b54b62fc424b9cb0d5ee60a7ebb6": {
          "model_module": "@jupyter-widgets/controls",
          "model_name": "HTMLModel",
          "state": {
            "_view_name": "HTMLView",
            "style": "IPY_MODEL_83ebedd1867648cfad3f4ee74cd55fc3",
            "_dom_classes": [],
            "description": "",
            "_model_name": "HTMLModel",
            "placeholder": "​",
            "_view_module": "@jupyter-widgets/controls",
            "_model_module_version": "1.5.0",
            "value": " 232k/232k [00:02&lt;00:00, 103kB/s]",
            "_view_count": null,
            "_view_module_version": "1.5.0",
            "description_tooltip": null,
            "_model_module": "@jupyter-widgets/controls",
            "layout": "IPY_MODEL_9145ddc3df3e4662b7f43451736c414c"
          }
        },
        "a0512d66ea1548ba8463a806d0a5edaa": {
          "model_module": "@jupyter-widgets/controls",
          "model_name": "ProgressStyleModel",
          "state": {
            "_view_name": "StyleView",
            "_model_name": "ProgressStyleModel",
            "description_width": "initial",
            "_view_module": "@jupyter-widgets/base",
            "_model_module_version": "1.5.0",
            "_view_count": null,
            "_view_module_version": "1.2.0",
            "bar_color": null,
            "_model_module": "@jupyter-widgets/controls"
          }
        },
        "df1b4f696c1e403ea017b27e3996cb29": {
          "model_module": "@jupyter-widgets/base",
          "model_name": "LayoutModel",
          "state": {
            "_view_name": "LayoutView",
            "grid_template_rows": null,
            "right": null,
            "justify_content": null,
            "_view_module": "@jupyter-widgets/base",
            "overflow": null,
            "_model_module_version": "1.2.0",
            "_view_count": null,
            "flex_flow": null,
            "width": null,
            "min_width": null,
            "border": null,
            "align_items": null,
            "bottom": null,
            "_model_module": "@jupyter-widgets/base",
            "top": null,
            "grid_column": null,
            "overflow_y": null,
            "overflow_x": null,
            "grid_auto_flow": null,
            "grid_area": null,
            "grid_template_columns": null,
            "flex": null,
            "_model_name": "LayoutModel",
            "justify_items": null,
            "grid_row": null,
            "max_height": null,
            "align_content": null,
            "visibility": null,
            "align_self": null,
            "height": null,
            "min_height": null,
            "padding": null,
            "grid_auto_rows": null,
            "grid_gap": null,
            "max_width": null,
            "order": null,
            "_view_module_version": "1.2.0",
            "grid_template_areas": null,
            "object_position": null,
            "object_fit": null,
            "grid_auto_columns": null,
            "margin": null,
            "display": null,
            "left": null
          }
        },
        "83ebedd1867648cfad3f4ee74cd55fc3": {
          "model_module": "@jupyter-widgets/controls",
          "model_name": "DescriptionStyleModel",
          "state": {
            "_view_name": "StyleView",
            "_model_name": "DescriptionStyleModel",
            "description_width": "",
            "_view_module": "@jupyter-widgets/base",
            "_model_module_version": "1.5.0",
            "_view_count": null,
            "_view_module_version": "1.2.0",
            "_model_module": "@jupyter-widgets/controls"
          }
        },
        "9145ddc3df3e4662b7f43451736c414c": {
          "model_module": "@jupyter-widgets/base",
          "model_name": "LayoutModel",
          "state": {
            "_view_name": "LayoutView",
            "grid_template_rows": null,
            "right": null,
            "justify_content": null,
            "_view_module": "@jupyter-widgets/base",
            "overflow": null,
            "_model_module_version": "1.2.0",
            "_view_count": null,
            "flex_flow": null,
            "width": null,
            "min_width": null,
            "border": null,
            "align_items": null,
            "bottom": null,
            "_model_module": "@jupyter-widgets/base",
            "top": null,
            "grid_column": null,
            "overflow_y": null,
            "overflow_x": null,
            "grid_auto_flow": null,
            "grid_area": null,
            "grid_template_columns": null,
            "flex": null,
            "_model_name": "LayoutModel",
            "justify_items": null,
            "grid_row": null,
            "max_height": null,
            "align_content": null,
            "visibility": null,
            "align_self": null,
            "height": null,
            "min_height": null,
            "padding": null,
            "grid_auto_rows": null,
            "grid_gap": null,
            "max_width": null,
            "order": null,
            "_view_module_version": "1.2.0",
            "grid_template_areas": null,
            "object_position": null,
            "object_fit": null,
            "grid_auto_columns": null,
            "margin": null,
            "display": null,
            "left": null
          }
        },
        "51f38f56efda478681ae648adec8e398": {
          "model_module": "@jupyter-widgets/controls",
          "model_name": "HBoxModel",
          "state": {
            "_view_name": "HBoxView",
            "_dom_classes": [],
            "_model_name": "HBoxModel",
            "_view_module": "@jupyter-widgets/controls",
            "_model_module_version": "1.5.0",
            "_view_count": null,
            "_view_module_version": "1.5.0",
            "box_style": "",
            "layout": "IPY_MODEL_14eb6894765a4f199eca7122ac13d7c7",
            "_model_module": "@jupyter-widgets/controls",
            "children": [
              "IPY_MODEL_996b37ec1c944282a8d1c36f29ae1a4d",
              "IPY_MODEL_e15640690bc2450cae96ae6e77e818ed"
            ]
          }
        },
        "14eb6894765a4f199eca7122ac13d7c7": {
          "model_module": "@jupyter-widgets/base",
          "model_name": "LayoutModel",
          "state": {
            "_view_name": "LayoutView",
            "grid_template_rows": null,
            "right": null,
            "justify_content": null,
            "_view_module": "@jupyter-widgets/base",
            "overflow": null,
            "_model_module_version": "1.2.0",
            "_view_count": null,
            "flex_flow": null,
            "width": null,
            "min_width": null,
            "border": null,
            "align_items": null,
            "bottom": null,
            "_model_module": "@jupyter-widgets/base",
            "top": null,
            "grid_column": null,
            "overflow_y": null,
            "overflow_x": null,
            "grid_auto_flow": null,
            "grid_area": null,
            "grid_template_columns": null,
            "flex": null,
            "_model_name": "LayoutModel",
            "justify_items": null,
            "grid_row": null,
            "max_height": null,
            "align_content": null,
            "visibility": null,
            "align_self": null,
            "height": null,
            "min_height": null,
            "padding": null,
            "grid_auto_rows": null,
            "grid_gap": null,
            "max_width": null,
            "order": null,
            "_view_module_version": "1.2.0",
            "grid_template_areas": null,
            "object_position": null,
            "object_fit": null,
            "grid_auto_columns": null,
            "margin": null,
            "display": null,
            "left": null
          }
        },
        "996b37ec1c944282a8d1c36f29ae1a4d": {
          "model_module": "@jupyter-widgets/controls",
          "model_name": "FloatProgressModel",
          "state": {
            "_view_name": "ProgressView",
            "style": "IPY_MODEL_794d6e2d4af84f549a7a215d1f788cfc",
            "_dom_classes": [],
            "description": "Downloading: 100%",
            "_model_name": "FloatProgressModel",
            "bar_style": "success",
            "max": 27,
            "_view_module": "@jupyter-widgets/controls",
            "_model_module_version": "1.5.0",
            "value": 27,
            "_view_count": null,
            "_view_module_version": "1.5.0",
            "orientation": "horizontal",
            "min": 0,
            "description_tooltip": null,
            "_model_module": "@jupyter-widgets/controls",
            "layout": "IPY_MODEL_3c38eb75af594ae683518aaabf5ca42e"
          }
        },
        "e15640690bc2450cae96ae6e77e818ed": {
          "model_module": "@jupyter-widgets/controls",
          "model_name": "HTMLModel",
          "state": {
            "_view_name": "HTMLView",
            "style": "IPY_MODEL_eb723df620ad4d669d14a78c6e83736b",
            "_dom_classes": [],
            "description": "",
            "_model_name": "HTMLModel",
            "placeholder": "​",
            "_view_module": "@jupyter-widgets/controls",
            "_model_module_version": "1.5.0",
            "value": " 27.0/27.0 [00:00&lt;00:00, 43.2B/s]",
            "_view_count": null,
            "_view_module_version": "1.5.0",
            "description_tooltip": null,
            "_model_module": "@jupyter-widgets/controls",
            "layout": "IPY_MODEL_5177d218ef3f4c41acd794755f332dfb"
          }
        },
        "794d6e2d4af84f549a7a215d1f788cfc": {
          "model_module": "@jupyter-widgets/controls",
          "model_name": "ProgressStyleModel",
          "state": {
            "_view_name": "StyleView",
            "_model_name": "ProgressStyleModel",
            "description_width": "initial",
            "_view_module": "@jupyter-widgets/base",
            "_model_module_version": "1.5.0",
            "_view_count": null,
            "_view_module_version": "1.2.0",
            "bar_color": null,
            "_model_module": "@jupyter-widgets/controls"
          }
        },
        "3c38eb75af594ae683518aaabf5ca42e": {
          "model_module": "@jupyter-widgets/base",
          "model_name": "LayoutModel",
          "state": {
            "_view_name": "LayoutView",
            "grid_template_rows": null,
            "right": null,
            "justify_content": null,
            "_view_module": "@jupyter-widgets/base",
            "overflow": null,
            "_model_module_version": "1.2.0",
            "_view_count": null,
            "flex_flow": null,
            "width": null,
            "min_width": null,
            "border": null,
            "align_items": null,
            "bottom": null,
            "_model_module": "@jupyter-widgets/base",
            "top": null,
            "grid_column": null,
            "overflow_y": null,
            "overflow_x": null,
            "grid_auto_flow": null,
            "grid_area": null,
            "grid_template_columns": null,
            "flex": null,
            "_model_name": "LayoutModel",
            "justify_items": null,
            "grid_row": null,
            "max_height": null,
            "align_content": null,
            "visibility": null,
            "align_self": null,
            "height": null,
            "min_height": null,
            "padding": null,
            "grid_auto_rows": null,
            "grid_gap": null,
            "max_width": null,
            "order": null,
            "_view_module_version": "1.2.0",
            "grid_template_areas": null,
            "object_position": null,
            "object_fit": null,
            "grid_auto_columns": null,
            "margin": null,
            "display": null,
            "left": null
          }
        },
        "eb723df620ad4d669d14a78c6e83736b": {
          "model_module": "@jupyter-widgets/controls",
          "model_name": "DescriptionStyleModel",
          "state": {
            "_view_name": "StyleView",
            "_model_name": "DescriptionStyleModel",
            "description_width": "",
            "_view_module": "@jupyter-widgets/base",
            "_model_module_version": "1.5.0",
            "_view_count": null,
            "_view_module_version": "1.2.0",
            "_model_module": "@jupyter-widgets/controls"
          }
        },
        "5177d218ef3f4c41acd794755f332dfb": {
          "model_module": "@jupyter-widgets/base",
          "model_name": "LayoutModel",
          "state": {
            "_view_name": "LayoutView",
            "grid_template_rows": null,
            "right": null,
            "justify_content": null,
            "_view_module": "@jupyter-widgets/base",
            "overflow": null,
            "_model_module_version": "1.2.0",
            "_view_count": null,
            "flex_flow": null,
            "width": null,
            "min_width": null,
            "border": null,
            "align_items": null,
            "bottom": null,
            "_model_module": "@jupyter-widgets/base",
            "top": null,
            "grid_column": null,
            "overflow_y": null,
            "overflow_x": null,
            "grid_auto_flow": null,
            "grid_area": null,
            "grid_template_columns": null,
            "flex": null,
            "_model_name": "LayoutModel",
            "justify_items": null,
            "grid_row": null,
            "max_height": null,
            "align_content": null,
            "visibility": null,
            "align_self": null,
            "height": null,
            "min_height": null,
            "padding": null,
            "grid_auto_rows": null,
            "grid_gap": null,
            "max_width": null,
            "order": null,
            "_view_module_version": "1.2.0",
            "grid_template_areas": null,
            "object_position": null,
            "object_fit": null,
            "grid_auto_columns": null,
            "margin": null,
            "display": null,
            "left": null
          }
        },
        "c337880902c1439d953270f75cdd9bca": {
          "model_module": "@jupyter-widgets/controls",
          "model_name": "HBoxModel",
          "state": {
            "_view_name": "HBoxView",
            "_dom_classes": [],
            "_model_name": "HBoxModel",
            "_view_module": "@jupyter-widgets/controls",
            "_model_module_version": "1.5.0",
            "_view_count": null,
            "_view_module_version": "1.5.0",
            "box_style": "",
            "layout": "IPY_MODEL_60d4245b3051450bac3ab6827b50a2ea",
            "_model_module": "@jupyter-widgets/controls",
            "children": [
              "IPY_MODEL_cb033f0a596c4d838573e80e7b89a030",
              "IPY_MODEL_9997fbb525bf415f9b479434dd045721"
            ]
          }
        },
        "60d4245b3051450bac3ab6827b50a2ea": {
          "model_module": "@jupyter-widgets/base",
          "model_name": "LayoutModel",
          "state": {
            "_view_name": "LayoutView",
            "grid_template_rows": null,
            "right": null,
            "justify_content": null,
            "_view_module": "@jupyter-widgets/base",
            "overflow": null,
            "_model_module_version": "1.2.0",
            "_view_count": null,
            "flex_flow": null,
            "width": null,
            "min_width": null,
            "border": null,
            "align_items": null,
            "bottom": null,
            "_model_module": "@jupyter-widgets/base",
            "top": null,
            "grid_column": null,
            "overflow_y": null,
            "overflow_x": null,
            "grid_auto_flow": null,
            "grid_area": null,
            "grid_template_columns": null,
            "flex": null,
            "_model_name": "LayoutModel",
            "justify_items": null,
            "grid_row": null,
            "max_height": null,
            "align_content": null,
            "visibility": null,
            "align_self": null,
            "height": null,
            "min_height": null,
            "padding": null,
            "grid_auto_rows": null,
            "grid_gap": null,
            "max_width": null,
            "order": null,
            "_view_module_version": "1.2.0",
            "grid_template_areas": null,
            "object_position": null,
            "object_fit": null,
            "grid_auto_columns": null,
            "margin": null,
            "display": null,
            "left": null
          }
        },
        "cb033f0a596c4d838573e80e7b89a030": {
          "model_module": "@jupyter-widgets/controls",
          "model_name": "FloatProgressModel",
          "state": {
            "_view_name": "ProgressView",
            "style": "IPY_MODEL_57e83dee23d2454a96d21fd6ff78a733",
            "_dom_classes": [],
            "description": "Downloading: 100%",
            "_model_name": "FloatProgressModel",
            "bar_style": "success",
            "max": 466062,
            "_view_module": "@jupyter-widgets/controls",
            "_model_module_version": "1.5.0",
            "value": 466062,
            "_view_count": null,
            "_view_module_version": "1.5.0",
            "orientation": "horizontal",
            "min": 0,
            "description_tooltip": null,
            "_model_module": "@jupyter-widgets/controls",
            "layout": "IPY_MODEL_b99c2f99b11c4b058ef384369ce5f5da"
          }
        },
        "9997fbb525bf415f9b479434dd045721": {
          "model_module": "@jupyter-widgets/controls",
          "model_name": "HTMLModel",
          "state": {
            "_view_name": "HTMLView",
            "style": "IPY_MODEL_97da958add6d4772b16ff506bca51105",
            "_dom_classes": [],
            "description": "",
            "_model_name": "HTMLModel",
            "placeholder": "​",
            "_view_module": "@jupyter-widgets/controls",
            "_model_module_version": "1.5.0",
            "value": " 466k/466k [00:00&lt;00:00, 2.21MB/s]",
            "_view_count": null,
            "_view_module_version": "1.5.0",
            "description_tooltip": null,
            "_model_module": "@jupyter-widgets/controls",
            "layout": "IPY_MODEL_d783c69988cb42199f858b9db84cede9"
          }
        },
        "57e83dee23d2454a96d21fd6ff78a733": {
          "model_module": "@jupyter-widgets/controls",
          "model_name": "ProgressStyleModel",
          "state": {
            "_view_name": "StyleView",
            "_model_name": "ProgressStyleModel",
            "description_width": "initial",
            "_view_module": "@jupyter-widgets/base",
            "_model_module_version": "1.5.0",
            "_view_count": null,
            "_view_module_version": "1.2.0",
            "bar_color": null,
            "_model_module": "@jupyter-widgets/controls"
          }
        },
        "b99c2f99b11c4b058ef384369ce5f5da": {
          "model_module": "@jupyter-widgets/base",
          "model_name": "LayoutModel",
          "state": {
            "_view_name": "LayoutView",
            "grid_template_rows": null,
            "right": null,
            "justify_content": null,
            "_view_module": "@jupyter-widgets/base",
            "overflow": null,
            "_model_module_version": "1.2.0",
            "_view_count": null,
            "flex_flow": null,
            "width": null,
            "min_width": null,
            "border": null,
            "align_items": null,
            "bottom": null,
            "_model_module": "@jupyter-widgets/base",
            "top": null,
            "grid_column": null,
            "overflow_y": null,
            "overflow_x": null,
            "grid_auto_flow": null,
            "grid_area": null,
            "grid_template_columns": null,
            "flex": null,
            "_model_name": "LayoutModel",
            "justify_items": null,
            "grid_row": null,
            "max_height": null,
            "align_content": null,
            "visibility": null,
            "align_self": null,
            "height": null,
            "min_height": null,
            "padding": null,
            "grid_auto_rows": null,
            "grid_gap": null,
            "max_width": null,
            "order": null,
            "_view_module_version": "1.2.0",
            "grid_template_areas": null,
            "object_position": null,
            "object_fit": null,
            "grid_auto_columns": null,
            "margin": null,
            "display": null,
            "left": null
          }
        },
        "97da958add6d4772b16ff506bca51105": {
          "model_module": "@jupyter-widgets/controls",
          "model_name": "DescriptionStyleModel",
          "state": {
            "_view_name": "StyleView",
            "_model_name": "DescriptionStyleModel",
            "description_width": "",
            "_view_module": "@jupyter-widgets/base",
            "_model_module_version": "1.5.0",
            "_view_count": null,
            "_view_module_version": "1.2.0",
            "_model_module": "@jupyter-widgets/controls"
          }
        },
        "d783c69988cb42199f858b9db84cede9": {
          "model_module": "@jupyter-widgets/base",
          "model_name": "LayoutModel",
          "state": {
            "_view_name": "LayoutView",
            "grid_template_rows": null,
            "right": null,
            "justify_content": null,
            "_view_module": "@jupyter-widgets/base",
            "overflow": null,
            "_model_module_version": "1.2.0",
            "_view_count": null,
            "flex_flow": null,
            "width": null,
            "min_width": null,
            "border": null,
            "align_items": null,
            "bottom": null,
            "_model_module": "@jupyter-widgets/base",
            "top": null,
            "grid_column": null,
            "overflow_y": null,
            "overflow_x": null,
            "grid_auto_flow": null,
            "grid_area": null,
            "grid_template_columns": null,
            "flex": null,
            "_model_name": "LayoutModel",
            "justify_items": null,
            "grid_row": null,
            "max_height": null,
            "align_content": null,
            "visibility": null,
            "align_self": null,
            "height": null,
            "min_height": null,
            "padding": null,
            "grid_auto_rows": null,
            "grid_gap": null,
            "max_width": null,
            "order": null,
            "_view_module_version": "1.2.0",
            "grid_template_areas": null,
            "object_position": null,
            "object_fit": null,
            "grid_auto_columns": null,
            "margin": null,
            "display": null,
            "left": null
          }
        },
        "d69c602426ad4875a369bf1450a50716": {
          "model_module": "@jupyter-widgets/controls",
          "model_name": "HBoxModel",
          "state": {
            "_view_name": "HBoxView",
            "_dom_classes": [],
            "_model_name": "HBoxModel",
            "_view_module": "@jupyter-widgets/controls",
            "_model_module_version": "1.5.0",
            "_view_count": null,
            "_view_module_version": "1.5.0",
            "box_style": "",
            "layout": "IPY_MODEL_c3941a74ac994be8bb0dc75448fc432a",
            "_model_module": "@jupyter-widgets/controls",
            "children": [
              "IPY_MODEL_83464caa8f254bbbb2cefcdd33721d4a",
              "IPY_MODEL_8f5fd6171db14499a637a43f4a429fdc"
            ]
          }
        },
        "c3941a74ac994be8bb0dc75448fc432a": {
          "model_module": "@jupyter-widgets/base",
          "model_name": "LayoutModel",
          "state": {
            "_view_name": "LayoutView",
            "grid_template_rows": null,
            "right": null,
            "justify_content": null,
            "_view_module": "@jupyter-widgets/base",
            "overflow": null,
            "_model_module_version": "1.2.0",
            "_view_count": null,
            "flex_flow": null,
            "width": null,
            "min_width": null,
            "border": null,
            "align_items": null,
            "bottom": null,
            "_model_module": "@jupyter-widgets/base",
            "top": null,
            "grid_column": null,
            "overflow_y": null,
            "overflow_x": null,
            "grid_auto_flow": null,
            "grid_area": null,
            "grid_template_columns": null,
            "flex": null,
            "_model_name": "LayoutModel",
            "justify_items": null,
            "grid_row": null,
            "max_height": null,
            "align_content": null,
            "visibility": null,
            "align_self": null,
            "height": null,
            "min_height": null,
            "padding": null,
            "grid_auto_rows": null,
            "grid_gap": null,
            "max_width": null,
            "order": null,
            "_view_module_version": "1.2.0",
            "grid_template_areas": null,
            "object_position": null,
            "object_fit": null,
            "grid_auto_columns": null,
            "margin": null,
            "display": null,
            "left": null
          }
        },
        "83464caa8f254bbbb2cefcdd33721d4a": {
          "model_module": "@jupyter-widgets/controls",
          "model_name": "FloatProgressModel",
          "state": {
            "_view_name": "ProgressView",
            "style": "IPY_MODEL_35e40f9416b24f118044a4273c2f3545",
            "_dom_classes": [],
            "description": "Downloading: 100%",
            "_model_name": "FloatProgressModel",
            "bar_style": "success",
            "max": 666,
            "_view_module": "@jupyter-widgets/controls",
            "_model_module_version": "1.5.0",
            "value": 666,
            "_view_count": null,
            "_view_module_version": "1.5.0",
            "orientation": "horizontal",
            "min": 0,
            "description_tooltip": null,
            "_model_module": "@jupyter-widgets/controls",
            "layout": "IPY_MODEL_5c5123f3f5ce40b8b500b09d82bfb217"
          }
        },
        "8f5fd6171db14499a637a43f4a429fdc": {
          "model_module": "@jupyter-widgets/controls",
          "model_name": "HTMLModel",
          "state": {
            "_view_name": "HTMLView",
            "style": "IPY_MODEL_c75bfb20e74b4cb4a0f89bcd0013cf2e",
            "_dom_classes": [],
            "description": "",
            "_model_name": "HTMLModel",
            "placeholder": "​",
            "_view_module": "@jupyter-widgets/controls",
            "_model_module_version": "1.5.0",
            "value": " 666/666 [00:00&lt;00:00, 1.20kB/s]",
            "_view_count": null,
            "_view_module_version": "1.5.0",
            "description_tooltip": null,
            "_model_module": "@jupyter-widgets/controls",
            "layout": "IPY_MODEL_3d41d3efc88b4551827c193f79ec1320"
          }
        },
        "35e40f9416b24f118044a4273c2f3545": {
          "model_module": "@jupyter-widgets/controls",
          "model_name": "ProgressStyleModel",
          "state": {
            "_view_name": "StyleView",
            "_model_name": "ProgressStyleModel",
            "description_width": "initial",
            "_view_module": "@jupyter-widgets/base",
            "_model_module_version": "1.5.0",
            "_view_count": null,
            "_view_module_version": "1.2.0",
            "bar_color": null,
            "_model_module": "@jupyter-widgets/controls"
          }
        },
        "5c5123f3f5ce40b8b500b09d82bfb217": {
          "model_module": "@jupyter-widgets/base",
          "model_name": "LayoutModel",
          "state": {
            "_view_name": "LayoutView",
            "grid_template_rows": null,
            "right": null,
            "justify_content": null,
            "_view_module": "@jupyter-widgets/base",
            "overflow": null,
            "_model_module_version": "1.2.0",
            "_view_count": null,
            "flex_flow": null,
            "width": null,
            "min_width": null,
            "border": null,
            "align_items": null,
            "bottom": null,
            "_model_module": "@jupyter-widgets/base",
            "top": null,
            "grid_column": null,
            "overflow_y": null,
            "overflow_x": null,
            "grid_auto_flow": null,
            "grid_area": null,
            "grid_template_columns": null,
            "flex": null,
            "_model_name": "LayoutModel",
            "justify_items": null,
            "grid_row": null,
            "max_height": null,
            "align_content": null,
            "visibility": null,
            "align_self": null,
            "height": null,
            "min_height": null,
            "padding": null,
            "grid_auto_rows": null,
            "grid_gap": null,
            "max_width": null,
            "order": null,
            "_view_module_version": "1.2.0",
            "grid_template_areas": null,
            "object_position": null,
            "object_fit": null,
            "grid_auto_columns": null,
            "margin": null,
            "display": null,
            "left": null
          }
        },
        "c75bfb20e74b4cb4a0f89bcd0013cf2e": {
          "model_module": "@jupyter-widgets/controls",
          "model_name": "DescriptionStyleModel",
          "state": {
            "_view_name": "StyleView",
            "_model_name": "DescriptionStyleModel",
            "description_width": "",
            "_view_module": "@jupyter-widgets/base",
            "_model_module_version": "1.5.0",
            "_view_count": null,
            "_view_module_version": "1.2.0",
            "_model_module": "@jupyter-widgets/controls"
          }
        },
        "3d41d3efc88b4551827c193f79ec1320": {
          "model_module": "@jupyter-widgets/base",
          "model_name": "LayoutModel",
          "state": {
            "_view_name": "LayoutView",
            "grid_template_rows": null,
            "right": null,
            "justify_content": null,
            "_view_module": "@jupyter-widgets/base",
            "overflow": null,
            "_model_module_version": "1.2.0",
            "_view_count": null,
            "flex_flow": null,
            "width": null,
            "min_width": null,
            "border": null,
            "align_items": null,
            "bottom": null,
            "_model_module": "@jupyter-widgets/base",
            "top": null,
            "grid_column": null,
            "overflow_y": null,
            "overflow_x": null,
            "grid_auto_flow": null,
            "grid_area": null,
            "grid_template_columns": null,
            "flex": null,
            "_model_name": "LayoutModel",
            "justify_items": null,
            "grid_row": null,
            "max_height": null,
            "align_content": null,
            "visibility": null,
            "align_self": null,
            "height": null,
            "min_height": null,
            "padding": null,
            "grid_auto_rows": null,
            "grid_gap": null,
            "max_width": null,
            "order": null,
            "_view_module_version": "1.2.0",
            "grid_template_areas": null,
            "object_position": null,
            "object_fit": null,
            "grid_auto_columns": null,
            "margin": null,
            "display": null,
            "left": null
          }
        },
        "781d61860f044e9a8842daa83ea3dfc8": {
          "model_module": "@jupyter-widgets/controls",
          "model_name": "HBoxModel",
          "state": {
            "_view_name": "HBoxView",
            "_dom_classes": [],
            "_model_name": "HBoxModel",
            "_view_module": "@jupyter-widgets/controls",
            "_model_module_version": "1.5.0",
            "_view_count": null,
            "_view_module_version": "1.5.0",
            "box_style": "",
            "layout": "IPY_MODEL_a846758d8b1c4c7dae0a97c6990ccca9",
            "_model_module": "@jupyter-widgets/controls",
            "children": [
              "IPY_MODEL_80f4790e556d49b48079b0be3089d96e",
              "IPY_MODEL_2a3e822ab18142d9b44b2eb3143b6f49"
            ]
          }
        },
        "a846758d8b1c4c7dae0a97c6990ccca9": {
          "model_module": "@jupyter-widgets/base",
          "model_name": "LayoutModel",
          "state": {
            "_view_name": "LayoutView",
            "grid_template_rows": null,
            "right": null,
            "justify_content": null,
            "_view_module": "@jupyter-widgets/base",
            "overflow": null,
            "_model_module_version": "1.2.0",
            "_view_count": null,
            "flex_flow": null,
            "width": null,
            "min_width": null,
            "border": null,
            "align_items": null,
            "bottom": null,
            "_model_module": "@jupyter-widgets/base",
            "top": null,
            "grid_column": null,
            "overflow_y": null,
            "overflow_x": null,
            "grid_auto_flow": null,
            "grid_area": null,
            "grid_template_columns": null,
            "flex": null,
            "_model_name": "LayoutModel",
            "justify_items": null,
            "grid_row": null,
            "max_height": null,
            "align_content": null,
            "visibility": null,
            "align_self": null,
            "height": null,
            "min_height": null,
            "padding": null,
            "grid_auto_rows": null,
            "grid_gap": null,
            "max_width": null,
            "order": null,
            "_view_module_version": "1.2.0",
            "grid_template_areas": null,
            "object_position": null,
            "object_fit": null,
            "grid_auto_columns": null,
            "margin": null,
            "display": null,
            "left": null
          }
        },
        "80f4790e556d49b48079b0be3089d96e": {
          "model_module": "@jupyter-widgets/controls",
          "model_name": "FloatProgressModel",
          "state": {
            "_view_name": "ProgressView",
            "style": "IPY_MODEL_4ad091893eba4e73ad2654183a00e6d7",
            "_dom_classes": [],
            "description": "Downloading: 100%",
            "_model_name": "FloatProgressModel",
            "bar_style": "success",
            "max": 440343552,
            "_view_module": "@jupyter-widgets/controls",
            "_model_module_version": "1.5.0",
            "value": 440343552,
            "_view_count": null,
            "_view_module_version": "1.5.0",
            "orientation": "horizontal",
            "min": 0,
            "description_tooltip": null,
            "_model_module": "@jupyter-widgets/controls",
            "layout": "IPY_MODEL_968af043c02a4641a46bc73817a8bf33"
          }
        },
        "2a3e822ab18142d9b44b2eb3143b6f49": {
          "model_module": "@jupyter-widgets/controls",
          "model_name": "HTMLModel",
          "state": {
            "_view_name": "HTMLView",
            "style": "IPY_MODEL_bc1fb6eabe024ec3b9f02a9a24e54a9a",
            "_dom_classes": [],
            "description": "",
            "_model_name": "HTMLModel",
            "placeholder": "​",
            "_view_module": "@jupyter-widgets/controls",
            "_model_module_version": "1.5.0",
            "value": " 440M/440M [00:09&lt;00:00, 45.5MB/s]",
            "_view_count": null,
            "_view_module_version": "1.5.0",
            "description_tooltip": null,
            "_model_module": "@jupyter-widgets/controls",
            "layout": "IPY_MODEL_6ec36a41bab24f17bef2c0dbc5a2c026"
          }
        },
        "4ad091893eba4e73ad2654183a00e6d7": {
          "model_module": "@jupyter-widgets/controls",
          "model_name": "ProgressStyleModel",
          "state": {
            "_view_name": "StyleView",
            "_model_name": "ProgressStyleModel",
            "description_width": "initial",
            "_view_module": "@jupyter-widgets/base",
            "_model_module_version": "1.5.0",
            "_view_count": null,
            "_view_module_version": "1.2.0",
            "bar_color": null,
            "_model_module": "@jupyter-widgets/controls"
          }
        },
        "968af043c02a4641a46bc73817a8bf33": {
          "model_module": "@jupyter-widgets/base",
          "model_name": "LayoutModel",
          "state": {
            "_view_name": "LayoutView",
            "grid_template_rows": null,
            "right": null,
            "justify_content": null,
            "_view_module": "@jupyter-widgets/base",
            "overflow": null,
            "_model_module_version": "1.2.0",
            "_view_count": null,
            "flex_flow": null,
            "width": null,
            "min_width": null,
            "border": null,
            "align_items": null,
            "bottom": null,
            "_model_module": "@jupyter-widgets/base",
            "top": null,
            "grid_column": null,
            "overflow_y": null,
            "overflow_x": null,
            "grid_auto_flow": null,
            "grid_area": null,
            "grid_template_columns": null,
            "flex": null,
            "_model_name": "LayoutModel",
            "justify_items": null,
            "grid_row": null,
            "max_height": null,
            "align_content": null,
            "visibility": null,
            "align_self": null,
            "height": null,
            "min_height": null,
            "padding": null,
            "grid_auto_rows": null,
            "grid_gap": null,
            "max_width": null,
            "order": null,
            "_view_module_version": "1.2.0",
            "grid_template_areas": null,
            "object_position": null,
            "object_fit": null,
            "grid_auto_columns": null,
            "margin": null,
            "display": null,
            "left": null
          }
        },
        "bc1fb6eabe024ec3b9f02a9a24e54a9a": {
          "model_module": "@jupyter-widgets/controls",
          "model_name": "DescriptionStyleModel",
          "state": {
            "_view_name": "StyleView",
            "_model_name": "DescriptionStyleModel",
            "description_width": "",
            "_view_module": "@jupyter-widgets/base",
            "_model_module_version": "1.5.0",
            "_view_count": null,
            "_view_module_version": "1.2.0",
            "_model_module": "@jupyter-widgets/controls"
          }
        },
        "6ec36a41bab24f17bef2c0dbc5a2c026": {
          "model_module": "@jupyter-widgets/base",
          "model_name": "LayoutModel",
          "state": {
            "_view_name": "LayoutView",
            "grid_template_rows": null,
            "right": null,
            "justify_content": null,
            "_view_module": "@jupyter-widgets/base",
            "overflow": null,
            "_model_module_version": "1.2.0",
            "_view_count": null,
            "flex_flow": null,
            "width": null,
            "min_width": null,
            "border": null,
            "align_items": null,
            "bottom": null,
            "_model_module": "@jupyter-widgets/base",
            "top": null,
            "grid_column": null,
            "overflow_y": null,
            "overflow_x": null,
            "grid_auto_flow": null,
            "grid_area": null,
            "grid_template_columns": null,
            "flex": null,
            "_model_name": "LayoutModel",
            "justify_items": null,
            "grid_row": null,
            "max_height": null,
            "align_content": null,
            "visibility": null,
            "align_self": null,
            "height": null,
            "min_height": null,
            "padding": null,
            "grid_auto_rows": null,
            "grid_gap": null,
            "max_width": null,
            "order": null,
            "_view_module_version": "1.2.0",
            "grid_template_areas": null,
            "object_position": null,
            "object_fit": null,
            "grid_auto_columns": null,
            "margin": null,
            "display": null,
            "left": null
          }
        }
      }
    }
  },
  "cells": [
    {
      "cell_type": "code",
      "metadata": {
        "colab": {
          "base_uri": "https://localhost:8080/"
        },
        "id": "GJFLjN4aFf3f",
        "outputId": "bf4038c2-b7e1-4b69-ad24-5bc68a0013b9"
      },
      "source": [
        "import numpy as np\n",
        "import pandas as pd\n",
        "\n",
        "import torch\n",
        "if torch.cuda.is_available():\n",
        "  device = torch.device(\"cuda\")\n",
        "  print(\"We will use GPU:\",torch.cuda.get_device_name(0))\n",
        "\n",
        "else:\n",
        "  print(\"No device using CPU instead\")\n",
        "  device = torch.device(\"cpu\")"
      ],
      "execution_count": null,
      "outputs": [
        {
          "output_type": "stream",
          "text": [
            "We will use GPU: Tesla T4\n"
          ],
          "name": "stdout"
        }
      ]
    },
    {
      "cell_type": "code",
      "metadata": {
        "colab": {
          "base_uri": "https://localhost:8080/"
        },
        "id": "OUY2Q5BHGmUj",
        "outputId": "6af59bd0-5aba-4ce2-9f54-6152a1d68f3e"
      },
      "source": [
        "from google.colab import drive\n",
        "drive.mount(\"/content/gdrive\")"
      ],
      "execution_count": null,
      "outputs": [
        {
          "output_type": "stream",
          "text": [
            "Mounted at /content/gdrive\n"
          ],
          "name": "stdout"
        }
      ]
    },
    {
      "cell_type": "code",
      "metadata": {
        "id": "23_9q0UDHEO4"
      },
      "source": [
        "df_train = pd.read_csv(\"/content/gdrive/My Drive/Disaster Tweet/train.csv\")\n",
        "df_test = pd.read_csv(\"/content/gdrive/My Drive/Disaster Tweet/test.csv\")"
      ],
      "execution_count": null,
      "outputs": []
    },
    {
      "cell_type": "code",
      "metadata": {
        "colab": {
          "base_uri": "https://localhost:8080/",
          "height": 204
        },
        "id": "h_DDw5IAHjZH",
        "outputId": "21cac249-fbbb-46b0-fbc0-e421357218f6"
      },
      "source": [
        "df_train.head()"
      ],
      "execution_count": null,
      "outputs": [
        {
          "output_type": "execute_result",
          "data": {
            "text/html": [
              "<div>\n",
              "<style scoped>\n",
              "    .dataframe tbody tr th:only-of-type {\n",
              "        vertical-align: middle;\n",
              "    }\n",
              "\n",
              "    .dataframe tbody tr th {\n",
              "        vertical-align: top;\n",
              "    }\n",
              "\n",
              "    .dataframe thead th {\n",
              "        text-align: right;\n",
              "    }\n",
              "</style>\n",
              "<table border=\"1\" class=\"dataframe\">\n",
              "  <thead>\n",
              "    <tr style=\"text-align: right;\">\n",
              "      <th></th>\n",
              "      <th>id</th>\n",
              "      <th>keyword</th>\n",
              "      <th>location</th>\n",
              "      <th>text</th>\n",
              "      <th>target</th>\n",
              "    </tr>\n",
              "  </thead>\n",
              "  <tbody>\n",
              "    <tr>\n",
              "      <th>0</th>\n",
              "      <td>1</td>\n",
              "      <td>NaN</td>\n",
              "      <td>NaN</td>\n",
              "      <td>Our Deeds are the Reason of this #earthquake M...</td>\n",
              "      <td>1</td>\n",
              "    </tr>\n",
              "    <tr>\n",
              "      <th>1</th>\n",
              "      <td>4</td>\n",
              "      <td>NaN</td>\n",
              "      <td>NaN</td>\n",
              "      <td>Forest fire near La Ronge Sask. Canada</td>\n",
              "      <td>1</td>\n",
              "    </tr>\n",
              "    <tr>\n",
              "      <th>2</th>\n",
              "      <td>5</td>\n",
              "      <td>NaN</td>\n",
              "      <td>NaN</td>\n",
              "      <td>All residents asked to 'shelter in place' are ...</td>\n",
              "      <td>1</td>\n",
              "    </tr>\n",
              "    <tr>\n",
              "      <th>3</th>\n",
              "      <td>6</td>\n",
              "      <td>NaN</td>\n",
              "      <td>NaN</td>\n",
              "      <td>13,000 people receive #wildfires evacuation or...</td>\n",
              "      <td>1</td>\n",
              "    </tr>\n",
              "    <tr>\n",
              "      <th>4</th>\n",
              "      <td>7</td>\n",
              "      <td>NaN</td>\n",
              "      <td>NaN</td>\n",
              "      <td>Just got sent this photo from Ruby #Alaska as ...</td>\n",
              "      <td>1</td>\n",
              "    </tr>\n",
              "  </tbody>\n",
              "</table>\n",
              "</div>"
            ],
            "text/plain": [
              "   id keyword  ...                                               text target\n",
              "0   1     NaN  ...  Our Deeds are the Reason of this #earthquake M...      1\n",
              "1   4     NaN  ...             Forest fire near La Ronge Sask. Canada      1\n",
              "2   5     NaN  ...  All residents asked to 'shelter in place' are ...      1\n",
              "3   6     NaN  ...  13,000 people receive #wildfires evacuation or...      1\n",
              "4   7     NaN  ...  Just got sent this photo from Ruby #Alaska as ...      1\n",
              "\n",
              "[5 rows x 5 columns]"
            ]
          },
          "metadata": {
            "tags": []
          },
          "execution_count": 4
        }
      ]
    },
    {
      "cell_type": "code",
      "metadata": {
        "colab": {
          "base_uri": "https://localhost:8080/",
          "height": 35
        },
        "id": "166nmI1IYQ4D",
        "outputId": "7dbf9201-370d-4c89-d5b1-99bd9f14bdba"
      },
      "source": [
        "df_train.text[50]"
      ],
      "execution_count": null,
      "outputs": [
        {
          "output_type": "execute_result",
          "data": {
            "application/vnd.google.colaboratory.intrinsic+json": {
              "type": "string"
            },
            "text/plain": [
              "'Deputies: Man shot before Brighton home set ablaze http://t.co/gWNRhMSO8k'"
            ]
          },
          "metadata": {
            "tags": []
          },
          "execution_count": 5
        }
      ]
    },
    {
      "cell_type": "code",
      "metadata": {
        "id": "bAWotqbcHuSV"
      },
      "source": [
        "import re\n",
        "\n",
        "def preprocess(text):\n",
        "\n",
        "  text = text.lower()\n",
        "  \n",
        "  #remove hyperlink\n",
        "  text = re.sub(r'https?:\\/\\/.*[\\r\\n]*', '', text)\n",
        "  text = re.sub(r'http?:\\/\\/.*[\\r\\n]*', '', text)\n",
        "  \n",
        "  #remove &amp, &lt, &gt with &, <, > respectively\n",
        "  text = text.replace(r'&amp;?',r'and')\n",
        "  text = text.replace(r'&lt;',r'<')\n",
        "  text = text.replace(r'&gt;',r'>')\n",
        "\n",
        "  #remove hashtag sign(#)\n",
        "  text = re.sub(r'#','',text)\n",
        "\n",
        "  #remove mentions\n",
        "  text = re.sub(r\"(?:\\@)\\w+\", '',text)\n",
        "  \n",
        "  #remove non ascii characters\n",
        "  text = text.encode(\"ascii\",errors=\"ignore\").decode()\n",
        "\n",
        "  #remove some puncts (except . ! ?)\n",
        "  text=re.sub(r'[:\"#$%&\\*+,-/:;<=>@\\\\^_`{|}~]+','',text)\n",
        "  text=re.sub(r'[!]+','!',text)\n",
        "  text=re.sub(r'[?]+','?',text)\n",
        "  text=re.sub(r'[.]+','.',text)\n",
        "  text=re.sub(r\"'\",\"\",text)\n",
        "  text=re.sub(r\"\\(\",\"\",text)\n",
        "  text=re.sub(r\"\\)\",\"\",text)\n",
        "\n",
        "  \n",
        "  \n",
        "  return text"
      ],
      "execution_count": null,
      "outputs": []
    },
    {
      "cell_type": "code",
      "metadata": {
        "id": "fbG8owRRIHjO"
      },
      "source": [
        "df_train['text'] = df_train['text'].apply(preprocess)\n",
        "df_test['text'] = df_test['text'].apply(preprocess)\n",
        "df_train = df_train[df_train['text']!='']"
      ],
      "execution_count": null,
      "outputs": []
    },
    {
      "cell_type": "code",
      "metadata": {
        "colab": {
          "base_uri": "https://localhost:8080/",
          "height": 35
        },
        "id": "Itz-A1_QQAjS",
        "outputId": "7d584dcd-2cc4-42cc-bbcd-1ff3b86b5988"
      },
      "source": [
        "df_train.text[50]"
      ],
      "execution_count": null,
      "outputs": [
        {
          "output_type": "execute_result",
          "data": {
            "application/vnd.google.colaboratory.intrinsic+json": {
              "type": "string"
            },
            "text/plain": [
              "'deputies man shot before brighton home set ablaze '"
            ]
          },
          "metadata": {
            "tags": []
          },
          "execution_count": 8
        }
      ]
    },
    {
      "cell_type": "code",
      "metadata": {
        "colab": {
          "base_uri": "https://localhost:8080/",
          "height": 204
        },
        "id": "YYLcUquUVf_D",
        "outputId": "26106275-a7b8-493f-cfbd-0f96f7d266db"
      },
      "source": [
        "df_train.head()"
      ],
      "execution_count": null,
      "outputs": [
        {
          "output_type": "execute_result",
          "data": {
            "text/html": [
              "<div>\n",
              "<style scoped>\n",
              "    .dataframe tbody tr th:only-of-type {\n",
              "        vertical-align: middle;\n",
              "    }\n",
              "\n",
              "    .dataframe tbody tr th {\n",
              "        vertical-align: top;\n",
              "    }\n",
              "\n",
              "    .dataframe thead th {\n",
              "        text-align: right;\n",
              "    }\n",
              "</style>\n",
              "<table border=\"1\" class=\"dataframe\">\n",
              "  <thead>\n",
              "    <tr style=\"text-align: right;\">\n",
              "      <th></th>\n",
              "      <th>id</th>\n",
              "      <th>keyword</th>\n",
              "      <th>location</th>\n",
              "      <th>text</th>\n",
              "      <th>target</th>\n",
              "    </tr>\n",
              "  </thead>\n",
              "  <tbody>\n",
              "    <tr>\n",
              "      <th>0</th>\n",
              "      <td>1</td>\n",
              "      <td>NaN</td>\n",
              "      <td>NaN</td>\n",
              "      <td>our deeds are the reason of this earthquake ma...</td>\n",
              "      <td>1</td>\n",
              "    </tr>\n",
              "    <tr>\n",
              "      <th>1</th>\n",
              "      <td>4</td>\n",
              "      <td>NaN</td>\n",
              "      <td>NaN</td>\n",
              "      <td>forest fire near la ronge sask canada</td>\n",
              "      <td>1</td>\n",
              "    </tr>\n",
              "    <tr>\n",
              "      <th>2</th>\n",
              "      <td>5</td>\n",
              "      <td>NaN</td>\n",
              "      <td>NaN</td>\n",
              "      <td>all residents asked to shelter in place are be...</td>\n",
              "      <td>1</td>\n",
              "    </tr>\n",
              "    <tr>\n",
              "      <th>3</th>\n",
              "      <td>6</td>\n",
              "      <td>NaN</td>\n",
              "      <td>NaN</td>\n",
              "      <td>13000 people receive wildfires evacuation orde...</td>\n",
              "      <td>1</td>\n",
              "    </tr>\n",
              "    <tr>\n",
              "      <th>4</th>\n",
              "      <td>7</td>\n",
              "      <td>NaN</td>\n",
              "      <td>NaN</td>\n",
              "      <td>just got sent this photo from ruby alaska as s...</td>\n",
              "      <td>1</td>\n",
              "    </tr>\n",
              "  </tbody>\n",
              "</table>\n",
              "</div>"
            ],
            "text/plain": [
              "   id keyword  ...                                               text target\n",
              "0   1     NaN  ...  our deeds are the reason of this earthquake ma...      1\n",
              "1   4     NaN  ...              forest fire near la ronge sask canada      1\n",
              "2   5     NaN  ...  all residents asked to shelter in place are be...      1\n",
              "3   6     NaN  ...  13000 people receive wildfires evacuation orde...      1\n",
              "4   7     NaN  ...  just got sent this photo from ruby alaska as s...      1\n",
              "\n",
              "[5 rows x 5 columns]"
            ]
          },
          "metadata": {
            "tags": []
          },
          "execution_count": 9
        }
      ]
    },
    {
      "cell_type": "code",
      "metadata": {
        "id": "nNoaB6IuV3tX"
      },
      "source": [
        "df_train = df_train[['text','target']]"
      ],
      "execution_count": null,
      "outputs": []
    },
    {
      "cell_type": "code",
      "metadata": {
        "colab": {
          "base_uri": "https://localhost:8080/",
          "height": 204
        },
        "id": "TKEXrvZWYoKE",
        "outputId": "6c196f4d-5004-4957-a8cb-33573a6d4e3a"
      },
      "source": [
        "df_train.head()"
      ],
      "execution_count": null,
      "outputs": [
        {
          "output_type": "execute_result",
          "data": {
            "text/html": [
              "<div>\n",
              "<style scoped>\n",
              "    .dataframe tbody tr th:only-of-type {\n",
              "        vertical-align: middle;\n",
              "    }\n",
              "\n",
              "    .dataframe tbody tr th {\n",
              "        vertical-align: top;\n",
              "    }\n",
              "\n",
              "    .dataframe thead th {\n",
              "        text-align: right;\n",
              "    }\n",
              "</style>\n",
              "<table border=\"1\" class=\"dataframe\">\n",
              "  <thead>\n",
              "    <tr style=\"text-align: right;\">\n",
              "      <th></th>\n",
              "      <th>text</th>\n",
              "      <th>target</th>\n",
              "    </tr>\n",
              "  </thead>\n",
              "  <tbody>\n",
              "    <tr>\n",
              "      <th>0</th>\n",
              "      <td>our deeds are the reason of this earthquake ma...</td>\n",
              "      <td>1</td>\n",
              "    </tr>\n",
              "    <tr>\n",
              "      <th>1</th>\n",
              "      <td>forest fire near la ronge sask canada</td>\n",
              "      <td>1</td>\n",
              "    </tr>\n",
              "    <tr>\n",
              "      <th>2</th>\n",
              "      <td>all residents asked to shelter in place are be...</td>\n",
              "      <td>1</td>\n",
              "    </tr>\n",
              "    <tr>\n",
              "      <th>3</th>\n",
              "      <td>13000 people receive wildfires evacuation orde...</td>\n",
              "      <td>1</td>\n",
              "    </tr>\n",
              "    <tr>\n",
              "      <th>4</th>\n",
              "      <td>just got sent this photo from ruby alaska as s...</td>\n",
              "      <td>1</td>\n",
              "    </tr>\n",
              "  </tbody>\n",
              "</table>\n",
              "</div>"
            ],
            "text/plain": [
              "                                                text  target\n",
              "0  our deeds are the reason of this earthquake ma...       1\n",
              "1              forest fire near la ronge sask canada       1\n",
              "2  all residents asked to shelter in place are be...       1\n",
              "3  13000 people receive wildfires evacuation orde...       1\n",
              "4  just got sent this photo from ruby alaska as s...       1"
            ]
          },
          "metadata": {
            "tags": []
          },
          "execution_count": 11
        }
      ]
    },
    {
      "cell_type": "code",
      "metadata": {
        "colab": {
          "base_uri": "https://localhost:8080/"
        },
        "id": "akMmt2RaYxLi",
        "outputId": "498ab846-a980-43df-c065-f4d6c4838003"
      },
      "source": [
        "#balanced dataset\n",
        "df_train.target.value_counts()"
      ],
      "execution_count": null,
      "outputs": [
        {
          "output_type": "execute_result",
          "data": {
            "text/plain": [
              "0    4316\n",
              "1    3247\n",
              "Name: target, dtype: int64"
            ]
          },
          "metadata": {
            "tags": []
          },
          "execution_count": 12
        }
      ]
    },
    {
      "cell_type": "code",
      "metadata": {
        "id": "9n6I8vVgY6AE"
      },
      "source": [
        "texts = df_train.text.values\n",
        "labels = df_train.target.values"
      ],
      "execution_count": null,
      "outputs": []
    },
    {
      "cell_type": "code",
      "metadata": {
        "colab": {
          "base_uri": "https://localhost:8080/"
        },
        "id": "BUrN7oswZa70",
        "outputId": "15515ec4-d508-44d1-f21f-4e2c75383d22"
      },
      "source": [
        "!pip install transformers"
      ],
      "execution_count": null,
      "outputs": [
        {
          "output_type": "stream",
          "text": [
            "Collecting transformers\n",
            "\u001b[?25l  Downloading https://files.pythonhosted.org/packages/fd/1a/41c644c963249fd7f3836d926afa1e3f1cc234a1c40d80c5f03ad8f6f1b2/transformers-4.8.2-py3-none-any.whl (2.5MB)\n",
            "\r\u001b[K     |▏                               | 10kB 22.5MB/s eta 0:00:01\r\u001b[K     |▎                               | 20kB 17.0MB/s eta 0:00:01\r\u001b[K     |▍                               | 30kB 15.0MB/s eta 0:00:01\r\u001b[K     |▌                               | 40kB 14.0MB/s eta 0:00:01\r\u001b[K     |▋                               | 51kB 7.5MB/s eta 0:00:01\r\u001b[K     |▉                               | 61kB 7.4MB/s eta 0:00:01\r\u001b[K     |█                               | 71kB 8.4MB/s eta 0:00:01\r\u001b[K     |█                               | 81kB 8.9MB/s eta 0:00:01\r\u001b[K     |█▏                              | 92kB 9.2MB/s eta 0:00:01\r\u001b[K     |█▎                              | 102kB 7.5MB/s eta 0:00:01\r\u001b[K     |█▍                              | 112kB 7.5MB/s eta 0:00:01\r\u001b[K     |█▋                              | 122kB 7.5MB/s eta 0:00:01\r\u001b[K     |█▊                              | 133kB 7.5MB/s eta 0:00:01\r\u001b[K     |█▉                              | 143kB 7.5MB/s eta 0:00:01\r\u001b[K     |██                              | 153kB 7.5MB/s eta 0:00:01\r\u001b[K     |██                              | 163kB 7.5MB/s eta 0:00:01\r\u001b[K     |██▎                             | 174kB 7.5MB/s eta 0:00:01\r\u001b[K     |██▍                             | 184kB 7.5MB/s eta 0:00:01\r\u001b[K     |██▌                             | 194kB 7.5MB/s eta 0:00:01\r\u001b[K     |██▋                             | 204kB 7.5MB/s eta 0:00:01\r\u001b[K     |██▊                             | 215kB 7.5MB/s eta 0:00:01\r\u001b[K     |██▉                             | 225kB 7.5MB/s eta 0:00:01\r\u001b[K     |███                             | 235kB 7.5MB/s eta 0:00:01\r\u001b[K     |███▏                            | 245kB 7.5MB/s eta 0:00:01\r\u001b[K     |███▎                            | 256kB 7.5MB/s eta 0:00:01\r\u001b[K     |███▍                            | 266kB 7.5MB/s eta 0:00:01\r\u001b[K     |███▌                            | 276kB 7.5MB/s eta 0:00:01\r\u001b[K     |███▊                            | 286kB 7.5MB/s eta 0:00:01\r\u001b[K     |███▉                            | 296kB 7.5MB/s eta 0:00:01\r\u001b[K     |████                            | 307kB 7.5MB/s eta 0:00:01\r\u001b[K     |████                            | 317kB 7.5MB/s eta 0:00:01\r\u001b[K     |████▏                           | 327kB 7.5MB/s eta 0:00:01\r\u001b[K     |████▎                           | 337kB 7.5MB/s eta 0:00:01\r\u001b[K     |████▌                           | 348kB 7.5MB/s eta 0:00:01\r\u001b[K     |████▋                           | 358kB 7.5MB/s eta 0:00:01\r\u001b[K     |████▊                           | 368kB 7.5MB/s eta 0:00:01\r\u001b[K     |████▉                           | 378kB 7.5MB/s eta 0:00:01\r\u001b[K     |█████                           | 389kB 7.5MB/s eta 0:00:01\r\u001b[K     |█████▏                          | 399kB 7.5MB/s eta 0:00:01\r\u001b[K     |█████▎                          | 409kB 7.5MB/s eta 0:00:01\r\u001b[K     |█████▍                          | 419kB 7.5MB/s eta 0:00:01\r\u001b[K     |█████▌                          | 430kB 7.5MB/s eta 0:00:01\r\u001b[K     |█████▋                          | 440kB 7.5MB/s eta 0:00:01\r\u001b[K     |█████▊                          | 450kB 7.5MB/s eta 0:00:01\r\u001b[K     |██████                          | 460kB 7.5MB/s eta 0:00:01\r\u001b[K     |██████                          | 471kB 7.5MB/s eta 0:00:01\r\u001b[K     |██████▏                         | 481kB 7.5MB/s eta 0:00:01\r\u001b[K     |██████▎                         | 491kB 7.5MB/s eta 0:00:01\r\u001b[K     |██████▍                         | 501kB 7.5MB/s eta 0:00:01\r\u001b[K     |██████▌                         | 512kB 7.5MB/s eta 0:00:01\r\u001b[K     |██████▊                         | 522kB 7.5MB/s eta 0:00:01\r\u001b[K     |██████▉                         | 532kB 7.5MB/s eta 0:00:01\r\u001b[K     |███████                         | 542kB 7.5MB/s eta 0:00:01\r\u001b[K     |███████                         | 552kB 7.5MB/s eta 0:00:01\r\u001b[K     |███████▏                        | 563kB 7.5MB/s eta 0:00:01\r\u001b[K     |███████▍                        | 573kB 7.5MB/s eta 0:00:01\r\u001b[K     |███████▌                        | 583kB 7.5MB/s eta 0:00:01\r\u001b[K     |███████▋                        | 593kB 7.5MB/s eta 0:00:01\r\u001b[K     |███████▊                        | 604kB 7.5MB/s eta 0:00:01\r\u001b[K     |███████▉                        | 614kB 7.5MB/s eta 0:00:01\r\u001b[K     |████████                        | 624kB 7.5MB/s eta 0:00:01\r\u001b[K     |████████▏                       | 634kB 7.5MB/s eta 0:00:01\r\u001b[K     |████████▎                       | 645kB 7.5MB/s eta 0:00:01\r\u001b[K     |████████▍                       | 655kB 7.5MB/s eta 0:00:01\r\u001b[K     |████████▌                       | 665kB 7.5MB/s eta 0:00:01\r\u001b[K     |████████▋                       | 675kB 7.5MB/s eta 0:00:01\r\u001b[K     |████████▉                       | 686kB 7.5MB/s eta 0:00:01\r\u001b[K     |█████████                       | 696kB 7.5MB/s eta 0:00:01\r\u001b[K     |█████████                       | 706kB 7.5MB/s eta 0:00:01\r\u001b[K     |█████████▏                      | 716kB 7.5MB/s eta 0:00:01\r\u001b[K     |█████████▎                      | 727kB 7.5MB/s eta 0:00:01\r\u001b[K     |█████████▍                      | 737kB 7.5MB/s eta 0:00:01\r\u001b[K     |█████████▋                      | 747kB 7.5MB/s eta 0:00:01\r\u001b[K     |█████████▊                      | 757kB 7.5MB/s eta 0:00:01\r\u001b[K     |█████████▉                      | 768kB 7.5MB/s eta 0:00:01\r\u001b[K     |██████████                      | 778kB 7.5MB/s eta 0:00:01\r\u001b[K     |██████████                      | 788kB 7.5MB/s eta 0:00:01\r\u001b[K     |██████████▎                     | 798kB 7.5MB/s eta 0:00:01\r\u001b[K     |██████████▍                     | 808kB 7.5MB/s eta 0:00:01\r\u001b[K     |██████████▌                     | 819kB 7.5MB/s eta 0:00:01\r\u001b[K     |██████████▋                     | 829kB 7.5MB/s eta 0:00:01\r\u001b[K     |██████████▊                     | 839kB 7.5MB/s eta 0:00:01\r\u001b[K     |██████████▉                     | 849kB 7.5MB/s eta 0:00:01\r\u001b[K     |███████████                     | 860kB 7.5MB/s eta 0:00:01\r\u001b[K     |███████████▏                    | 870kB 7.5MB/s eta 0:00:01\r\u001b[K     |███████████▎                    | 880kB 7.5MB/s eta 0:00:01\r\u001b[K     |███████████▍                    | 890kB 7.5MB/s eta 0:00:01\r\u001b[K     |███████████▌                    | 901kB 7.5MB/s eta 0:00:01\r\u001b[K     |███████████▊                    | 911kB 7.5MB/s eta 0:00:01\r\u001b[K     |███████████▉                    | 921kB 7.5MB/s eta 0:00:01\r\u001b[K     |████████████                    | 931kB 7.5MB/s eta 0:00:01\r\u001b[K     |████████████                    | 942kB 7.5MB/s eta 0:00:01\r\u001b[K     |████████████▏                   | 952kB 7.5MB/s eta 0:00:01\r\u001b[K     |████████████▎                   | 962kB 7.5MB/s eta 0:00:01\r\u001b[K     |████████████▌                   | 972kB 7.5MB/s eta 0:00:01\r\u001b[K     |████████████▋                   | 983kB 7.5MB/s eta 0:00:01\r\u001b[K     |████████████▊                   | 993kB 7.5MB/s eta 0:00:01\r\u001b[K     |████████████▉                   | 1.0MB 7.5MB/s eta 0:00:01\r\u001b[K     |█████████████                   | 1.0MB 7.5MB/s eta 0:00:01\r\u001b[K     |█████████████                   | 1.0MB 7.5MB/s eta 0:00:01\r\u001b[K     |█████████████▎                  | 1.0MB 7.5MB/s eta 0:00:01\r\u001b[K     |█████████████▍                  | 1.0MB 7.5MB/s eta 0:00:01\r\u001b[K     |█████████████▌                  | 1.1MB 7.5MB/s eta 0:00:01\r\u001b[K     |█████████████▋                  | 1.1MB 7.5MB/s eta 0:00:01\r\u001b[K     |█████████████▊                  | 1.1MB 7.5MB/s eta 0:00:01\r\u001b[K     |██████████████                  | 1.1MB 7.5MB/s eta 0:00:01\r\u001b[K     |██████████████                  | 1.1MB 7.5MB/s eta 0:00:01\r\u001b[K     |██████████████▏                 | 1.1MB 7.5MB/s eta 0:00:01\r\u001b[K     |██████████████▎                 | 1.1MB 7.5MB/s eta 0:00:01\r\u001b[K     |██████████████▍                 | 1.1MB 7.5MB/s eta 0:00:01\r\u001b[K     |██████████████▌                 | 1.1MB 7.5MB/s eta 0:00:01\r\u001b[K     |██████████████▊                 | 1.1MB 7.5MB/s eta 0:00:01\r\u001b[K     |██████████████▉                 | 1.2MB 7.5MB/s eta 0:00:01\r\u001b[K     |███████████████                 | 1.2MB 7.5MB/s eta 0:00:01\r\u001b[K     |███████████████                 | 1.2MB 7.5MB/s eta 0:00:01\r\u001b[K     |███████████████▏                | 1.2MB 7.5MB/s eta 0:00:01\r\u001b[K     |███████████████▍                | 1.2MB 7.5MB/s eta 0:00:01\r\u001b[K     |███████████████▌                | 1.2MB 7.5MB/s eta 0:00:01\r\u001b[K     |███████████████▋                | 1.2MB 7.5MB/s eta 0:00:01\r\u001b[K     |███████████████▊                | 1.2MB 7.5MB/s eta 0:00:01\r\u001b[K     |███████████████▉                | 1.2MB 7.5MB/s eta 0:00:01\r\u001b[K     |████████████████                | 1.2MB 7.5MB/s eta 0:00:01\r\u001b[K     |████████████████▏               | 1.3MB 7.5MB/s eta 0:00:01\r\u001b[K     |████████████████▎               | 1.3MB 7.5MB/s eta 0:00:01\r\u001b[K     |████████████████▍               | 1.3MB 7.5MB/s eta 0:00:01\r\u001b[K     |████████████████▌               | 1.3MB 7.5MB/s eta 0:00:01\r\u001b[K     |████████████████▋               | 1.3MB 7.5MB/s eta 0:00:01\r\u001b[K     |████████████████▉               | 1.3MB 7.5MB/s eta 0:00:01\r\u001b[K     |█████████████████               | 1.3MB 7.5MB/s eta 0:00:01\r\u001b[K     |█████████████████               | 1.3MB 7.5MB/s eta 0:00:01\r\u001b[K     |█████████████████▏              | 1.3MB 7.5MB/s eta 0:00:01\r\u001b[K     |█████████████████▎              | 1.4MB 7.5MB/s eta 0:00:01\r\u001b[K     |█████████████████▍              | 1.4MB 7.5MB/s eta 0:00:01\r\u001b[K     |█████████████████▋              | 1.4MB 7.5MB/s eta 0:00:01\r\u001b[K     |█████████████████▊              | 1.4MB 7.5MB/s eta 0:00:01\r\u001b[K     |█████████████████▉              | 1.4MB 7.5MB/s eta 0:00:01\r\u001b[K     |██████████████████              | 1.4MB 7.5MB/s eta 0:00:01\r\u001b[K     |██████████████████              | 1.4MB 7.5MB/s eta 0:00:01\r\u001b[K     |██████████████████▎             | 1.4MB 7.5MB/s eta 0:00:01\r\u001b[K     |██████████████████▍             | 1.4MB 7.5MB/s eta 0:00:01\r\u001b[K     |██████████████████▌             | 1.4MB 7.5MB/s eta 0:00:01\r\u001b[K     |██████████████████▋             | 1.5MB 7.5MB/s eta 0:00:01\r\u001b[K     |██████████████████▊             | 1.5MB 7.5MB/s eta 0:00:01\r\u001b[K     |██████████████████▉             | 1.5MB 7.5MB/s eta 0:00:01\r\u001b[K     |███████████████████             | 1.5MB 7.5MB/s eta 0:00:01\r\u001b[K     |███████████████████▏            | 1.5MB 7.5MB/s eta 0:00:01\r\u001b[K     |███████████████████▎            | 1.5MB 7.5MB/s eta 0:00:01\r\u001b[K     |███████████████████▍            | 1.5MB 7.5MB/s eta 0:00:01\r\u001b[K     |███████████████████▌            | 1.5MB 7.5MB/s eta 0:00:01\r\u001b[K     |███████████████████▋            | 1.5MB 7.5MB/s eta 0:00:01\r\u001b[K     |███████████████████▉            | 1.5MB 7.5MB/s eta 0:00:01\r\u001b[K     |████████████████████            | 1.6MB 7.5MB/s eta 0:00:01\r\u001b[K     |████████████████████            | 1.6MB 7.5MB/s eta 0:00:01\r\u001b[K     |████████████████████▏           | 1.6MB 7.5MB/s eta 0:00:01\r\u001b[K     |████████████████████▎           | 1.6MB 7.5MB/s eta 0:00:01\r\u001b[K     |████████████████████▌           | 1.6MB 7.5MB/s eta 0:00:01\r\u001b[K     |████████████████████▋           | 1.6MB 7.5MB/s eta 0:00:01\r\u001b[K     |████████████████████▊           | 1.6MB 7.5MB/s eta 0:00:01\r\u001b[K     |████████████████████▉           | 1.6MB 7.5MB/s eta 0:00:01\r\u001b[K     |█████████████████████           | 1.6MB 7.5MB/s eta 0:00:01\r\u001b[K     |█████████████████████           | 1.6MB 7.5MB/s eta 0:00:01\r\u001b[K     |█████████████████████▎          | 1.7MB 7.5MB/s eta 0:00:01\r\u001b[K     |█████████████████████▍          | 1.7MB 7.5MB/s eta 0:00:01\r\u001b[K     |█████████████████████▌          | 1.7MB 7.5MB/s eta 0:00:01\r\u001b[K     |█████████████████████▋          | 1.7MB 7.5MB/s eta 0:00:01\r\u001b[K     |█████████████████████▊          | 1.7MB 7.5MB/s eta 0:00:01\r\u001b[K     |██████████████████████          | 1.7MB 7.5MB/s eta 0:00:01\r\u001b[K     |██████████████████████          | 1.7MB 7.5MB/s eta 0:00:01\r\u001b[K     |██████████████████████▏         | 1.7MB 7.5MB/s eta 0:00:01\r\u001b[K     |██████████████████████▎         | 1.7MB 7.5MB/s eta 0:00:01\r\u001b[K     |██████████████████████▍         | 1.8MB 7.5MB/s eta 0:00:01\r\u001b[K     |██████████████████████▌         | 1.8MB 7.5MB/s eta 0:00:01\r\u001b[K     |██████████████████████▊         | 1.8MB 7.5MB/s eta 0:00:01\r\u001b[K     |██████████████████████▉         | 1.8MB 7.5MB/s eta 0:00:01\r\u001b[K     |███████████████████████         | 1.8MB 7.5MB/s eta 0:00:01\r\u001b[K     |███████████████████████         | 1.8MB 7.5MB/s eta 0:00:01\r\u001b[K     |███████████████████████▏        | 1.8MB 7.5MB/s eta 0:00:01\r\u001b[K     |███████████████████████▍        | 1.8MB 7.5MB/s eta 0:00:01\r\u001b[K     |███████████████████████▌        | 1.8MB 7.5MB/s eta 0:00:01\r\u001b[K     |███████████████████████▋        | 1.8MB 7.5MB/s eta 0:00:01\r\u001b[K     |███████████████████████▊        | 1.9MB 7.5MB/s eta 0:00:01\r\u001b[K     |███████████████████████▉        | 1.9MB 7.5MB/s eta 0:00:01\r\u001b[K     |████████████████████████        | 1.9MB 7.5MB/s eta 0:00:01\r\u001b[K     |████████████████████████▏       | 1.9MB 7.5MB/s eta 0:00:01\r\u001b[K     |████████████████████████▎       | 1.9MB 7.5MB/s eta 0:00:01\r\u001b[K     |████████████████████████▍       | 1.9MB 7.5MB/s eta 0:00:01\r\u001b[K     |████████████████████████▌       | 1.9MB 7.5MB/s eta 0:00:01\r\u001b[K     |████████████████████████▋       | 1.9MB 7.5MB/s eta 0:00:01\r\u001b[K     |████████████████████████▉       | 1.9MB 7.5MB/s eta 0:00:01\r\u001b[K     |█████████████████████████       | 1.9MB 7.5MB/s eta 0:00:01\r\u001b[K     |█████████████████████████       | 2.0MB 7.5MB/s eta 0:00:01\r\u001b[K     |█████████████████████████▏      | 2.0MB 7.5MB/s eta 0:00:01\r\u001b[K     |█████████████████████████▎      | 2.0MB 7.5MB/s eta 0:00:01\r\u001b[K     |█████████████████████████▍      | 2.0MB 7.5MB/s eta 0:00:01\r\u001b[K     |█████████████████████████▋      | 2.0MB 7.5MB/s eta 0:00:01\r\u001b[K     |█████████████████████████▊      | 2.0MB 7.5MB/s eta 0:00:01\r\u001b[K     |█████████████████████████▉      | 2.0MB 7.5MB/s eta 0:00:01\r\u001b[K     |██████████████████████████      | 2.0MB 7.5MB/s eta 0:00:01\r\u001b[K     |██████████████████████████      | 2.0MB 7.5MB/s eta 0:00:01\r\u001b[K     |██████████████████████████▏     | 2.0MB 7.5MB/s eta 0:00:01\r\u001b[K     |██████████████████████████▍     | 2.1MB 7.5MB/s eta 0:00:01\r\u001b[K     |██████████████████████████▌     | 2.1MB 7.5MB/s eta 0:00:01\r\u001b[K     |██████████████████████████▋     | 2.1MB 7.5MB/s eta 0:00:01\r\u001b[K     |██████████████████████████▊     | 2.1MB 7.5MB/s eta 0:00:01\r\u001b[K     |██████████████████████████▉     | 2.1MB 7.5MB/s eta 0:00:01\r\u001b[K     |███████████████████████████     | 2.1MB 7.5MB/s eta 0:00:01\r\u001b[K     |███████████████████████████▏    | 2.1MB 7.5MB/s eta 0:00:01\r\u001b[K     |███████████████████████████▎    | 2.1MB 7.5MB/s eta 0:00:01\r\u001b[K     |███████████████████████████▍    | 2.1MB 7.5MB/s eta 0:00:01\r\u001b[K     |███████████████████████████▌    | 2.2MB 7.5MB/s eta 0:00:01\r\u001b[K     |███████████████████████████▋    | 2.2MB 7.5MB/s eta 0:00:01\r\u001b[K     |███████████████████████████▉    | 2.2MB 7.5MB/s eta 0:00:01\r\u001b[K     |████████████████████████████    | 2.2MB 7.5MB/s eta 0:00:01\r\u001b[K     |████████████████████████████    | 2.2MB 7.5MB/s eta 0:00:01\r\u001b[K     |████████████████████████████▏   | 2.2MB 7.5MB/s eta 0:00:01\r\u001b[K     |████████████████████████████▎   | 2.2MB 7.5MB/s eta 0:00:01\r\u001b[K     |████████████████████████████▌   | 2.2MB 7.5MB/s eta 0:00:01\r\u001b[K     |████████████████████████████▋   | 2.2MB 7.5MB/s eta 0:00:01\r\u001b[K     |████████████████████████████▊   | 2.2MB 7.5MB/s eta 0:00:01\r\u001b[K     |████████████████████████████▉   | 2.3MB 7.5MB/s eta 0:00:01\r\u001b[K     |█████████████████████████████   | 2.3MB 7.5MB/s eta 0:00:01\r\u001b[K     |█████████████████████████████   | 2.3MB 7.5MB/s eta 0:00:01\r\u001b[K     |█████████████████████████████▎  | 2.3MB 7.5MB/s eta 0:00:01\r\u001b[K     |█████████████████████████████▍  | 2.3MB 7.5MB/s eta 0:00:01\r\u001b[K     |█████████████████████████████▌  | 2.3MB 7.5MB/s eta 0:00:01\r\u001b[K     |█████████████████████████████▋  | 2.3MB 7.5MB/s eta 0:00:01\r\u001b[K     |█████████████████████████████▊  | 2.3MB 7.5MB/s eta 0:00:01\r\u001b[K     |██████████████████████████████  | 2.3MB 7.5MB/s eta 0:00:01\r\u001b[K     |██████████████████████████████  | 2.3MB 7.5MB/s eta 0:00:01\r\u001b[K     |██████████████████████████████▏ | 2.4MB 7.5MB/s eta 0:00:01\r\u001b[K     |██████████████████████████████▎ | 2.4MB 7.5MB/s eta 0:00:01\r\u001b[K     |██████████████████████████████▍ | 2.4MB 7.5MB/s eta 0:00:01\r\u001b[K     |██████████████████████████████▌ | 2.4MB 7.5MB/s eta 0:00:01\r\u001b[K     |██████████████████████████████▊ | 2.4MB 7.5MB/s eta 0:00:01\r\u001b[K     |██████████████████████████████▉ | 2.4MB 7.5MB/s eta 0:00:01\r\u001b[K     |███████████████████████████████ | 2.4MB 7.5MB/s eta 0:00:01\r\u001b[K     |███████████████████████████████ | 2.4MB 7.5MB/s eta 0:00:01\r\u001b[K     |███████████████████████████████▏| 2.4MB 7.5MB/s eta 0:00:01\r\u001b[K     |███████████████████████████████▍| 2.4MB 7.5MB/s eta 0:00:01\r\u001b[K     |███████████████████████████████▌| 2.5MB 7.5MB/s eta 0:00:01\r\u001b[K     |███████████████████████████████▋| 2.5MB 7.5MB/s eta 0:00:01\r\u001b[K     |███████████████████████████████▊| 2.5MB 7.5MB/s eta 0:00:01\r\u001b[K     |███████████████████████████████▉| 2.5MB 7.5MB/s eta 0:00:01\r\u001b[K     |████████████████████████████████| 2.5MB 7.5MB/s eta 0:00:01\r\u001b[K     |████████████████████████████████| 2.5MB 7.5MB/s \n",
            "\u001b[?25hRequirement already satisfied: regex!=2019.12.17 in /usr/local/lib/python3.7/dist-packages (from transformers) (2019.12.20)\n",
            "Requirement already satisfied: packaging in /usr/local/lib/python3.7/dist-packages (from transformers) (20.9)\n",
            "Collecting huggingface-hub==0.0.12\n",
            "  Downloading https://files.pythonhosted.org/packages/2f/ee/97e253668fda9b17e968b3f97b2f8e53aa0127e8807d24a547687423fe0b/huggingface_hub-0.0.12-py3-none-any.whl\n",
            "Requirement already satisfied: numpy>=1.17 in /usr/local/lib/python3.7/dist-packages (from transformers) (1.19.5)\n",
            "Requirement already satisfied: requests in /usr/local/lib/python3.7/dist-packages (from transformers) (2.23.0)\n",
            "Requirement already satisfied: pyyaml in /usr/local/lib/python3.7/dist-packages (from transformers) (3.13)\n",
            "Requirement already satisfied: tqdm>=4.27 in /usr/local/lib/python3.7/dist-packages (from transformers) (4.41.1)\n",
            "Collecting sacremoses\n",
            "\u001b[?25l  Downloading https://files.pythonhosted.org/packages/75/ee/67241dc87f266093c533a2d4d3d69438e57d7a90abb216fa076e7d475d4a/sacremoses-0.0.45-py3-none-any.whl (895kB)\n",
            "\u001b[K     |████████████████████████████████| 901kB 49.0MB/s \n",
            "\u001b[?25hRequirement already satisfied: filelock in /usr/local/lib/python3.7/dist-packages (from transformers) (3.0.12)\n",
            "Requirement already satisfied: importlib-metadata; python_version < \"3.8\" in /usr/local/lib/python3.7/dist-packages (from transformers) (4.6.0)\n",
            "Collecting tokenizers<0.11,>=0.10.1\n",
            "\u001b[?25l  Downloading https://files.pythonhosted.org/packages/d4/e2/df3543e8ffdab68f5acc73f613de9c2b155ac47f162e725dcac87c521c11/tokenizers-0.10.3-cp37-cp37m-manylinux_2_5_x86_64.manylinux1_x86_64.manylinux_2_12_x86_64.manylinux2010_x86_64.whl (3.3MB)\n",
            "\u001b[K     |████████████████████████████████| 3.3MB 45.0MB/s \n",
            "\u001b[?25hRequirement already satisfied: pyparsing>=2.0.2 in /usr/local/lib/python3.7/dist-packages (from packaging->transformers) (2.4.7)\n",
            "Requirement already satisfied: typing-extensions in /usr/local/lib/python3.7/dist-packages (from huggingface-hub==0.0.12->transformers) (3.7.4.3)\n",
            "Requirement already satisfied: urllib3!=1.25.0,!=1.25.1,<1.26,>=1.21.1 in /usr/local/lib/python3.7/dist-packages (from requests->transformers) (1.24.3)\n",
            "Requirement already satisfied: chardet<4,>=3.0.2 in /usr/local/lib/python3.7/dist-packages (from requests->transformers) (3.0.4)\n",
            "Requirement already satisfied: certifi>=2017.4.17 in /usr/local/lib/python3.7/dist-packages (from requests->transformers) (2021.5.30)\n",
            "Requirement already satisfied: idna<3,>=2.5 in /usr/local/lib/python3.7/dist-packages (from requests->transformers) (2.10)\n",
            "Requirement already satisfied: joblib in /usr/local/lib/python3.7/dist-packages (from sacremoses->transformers) (1.0.1)\n",
            "Requirement already satisfied: six in /usr/local/lib/python3.7/dist-packages (from sacremoses->transformers) (1.15.0)\n",
            "Requirement already satisfied: click in /usr/local/lib/python3.7/dist-packages (from sacremoses->transformers) (7.1.2)\n",
            "Requirement already satisfied: zipp>=0.5 in /usr/local/lib/python3.7/dist-packages (from importlib-metadata; python_version < \"3.8\"->transformers) (3.4.1)\n",
            "Installing collected packages: huggingface-hub, sacremoses, tokenizers, transformers\n",
            "Successfully installed huggingface-hub-0.0.12 sacremoses-0.0.45 tokenizers-0.10.3 transformers-4.8.2\n"
          ],
          "name": "stdout"
        }
      ]
    },
    {
      "cell_type": "code",
      "metadata": {
        "colab": {
          "base_uri": "https://localhost:8080/",
          "height": 1000,
          "referenced_widgets": [
            "0e48669a1b0c4d87a16d859f3b8fc241",
            "2b9cff8f323d42ce8fa7e017dc846a80",
            "362ad80059e54b1689ff9d6a0154e99b",
            "95c5b54b62fc424b9cb0d5ee60a7ebb6",
            "a0512d66ea1548ba8463a806d0a5edaa",
            "df1b4f696c1e403ea017b27e3996cb29",
            "83ebedd1867648cfad3f4ee74cd55fc3",
            "9145ddc3df3e4662b7f43451736c414c",
            "51f38f56efda478681ae648adec8e398",
            "14eb6894765a4f199eca7122ac13d7c7",
            "996b37ec1c944282a8d1c36f29ae1a4d",
            "e15640690bc2450cae96ae6e77e818ed",
            "794d6e2d4af84f549a7a215d1f788cfc",
            "3c38eb75af594ae683518aaabf5ca42e",
            "eb723df620ad4d669d14a78c6e83736b",
            "5177d218ef3f4c41acd794755f332dfb",
            "c337880902c1439d953270f75cdd9bca",
            "60d4245b3051450bac3ab6827b50a2ea",
            "cb033f0a596c4d838573e80e7b89a030",
            "9997fbb525bf415f9b479434dd045721",
            "57e83dee23d2454a96d21fd6ff78a733",
            "b99c2f99b11c4b058ef384369ce5f5da",
            "97da958add6d4772b16ff506bca51105",
            "d783c69988cb42199f858b9db84cede9",
            "d69c602426ad4875a369bf1450a50716",
            "c3941a74ac994be8bb0dc75448fc432a",
            "83464caa8f254bbbb2cefcdd33721d4a",
            "8f5fd6171db14499a637a43f4a429fdc",
            "35e40f9416b24f118044a4273c2f3545",
            "5c5123f3f5ce40b8b500b09d82bfb217",
            "c75bfb20e74b4cb4a0f89bcd0013cf2e",
            "3d41d3efc88b4551827c193f79ec1320",
            "781d61860f044e9a8842daa83ea3dfc8",
            "a846758d8b1c4c7dae0a97c6990ccca9",
            "80f4790e556d49b48079b0be3089d96e",
            "2a3e822ab18142d9b44b2eb3143b6f49",
            "4ad091893eba4e73ad2654183a00e6d7",
            "968af043c02a4641a46bc73817a8bf33",
            "bc1fb6eabe024ec3b9f02a9a24e54a9a",
            "6ec36a41bab24f17bef2c0dbc5a2c026"
          ]
        },
        "id": "341hbRPzZhYt",
        "outputId": "db126d33-5f67-44de-d197-cc463bef0f32"
      },
      "source": [
        "from transformers import ElectraTokenizer, ElectraForSequenceClassification, AdamW\n",
        "\n",
        "model_name=\"google/electra-base-discriminator\"\n",
        "tokenizer = ElectraTokenizer.from_pretrained(model_name)\n",
        "model = ElectraForSequenceClassification.from_pretrained(model_name, num_labels=2)\n",
        "model.cuda()"
      ],
      "execution_count": null,
      "outputs": [
        {
          "output_type": "display_data",
          "data": {
            "application/vnd.jupyter.widget-view+json": {
              "model_id": "0e48669a1b0c4d87a16d859f3b8fc241",
              "version_minor": 0,
              "version_major": 2
            },
            "text/plain": [
              "HBox(children=(FloatProgress(value=0.0, description='Downloading', max=231508.0, style=ProgressStyle(descripti…"
            ]
          },
          "metadata": {
            "tags": []
          }
        },
        {
          "output_type": "stream",
          "text": [
            "\n"
          ],
          "name": "stdout"
        },
        {
          "output_type": "display_data",
          "data": {
            "application/vnd.jupyter.widget-view+json": {
              "model_id": "51f38f56efda478681ae648adec8e398",
              "version_minor": 0,
              "version_major": 2
            },
            "text/plain": [
              "HBox(children=(FloatProgress(value=0.0, description='Downloading', max=27.0, style=ProgressStyle(description_w…"
            ]
          },
          "metadata": {
            "tags": []
          }
        },
        {
          "output_type": "stream",
          "text": [
            "\n"
          ],
          "name": "stdout"
        },
        {
          "output_type": "display_data",
          "data": {
            "application/vnd.jupyter.widget-view+json": {
              "model_id": "c337880902c1439d953270f75cdd9bca",
              "version_minor": 0,
              "version_major": 2
            },
            "text/plain": [
              "HBox(children=(FloatProgress(value=0.0, description='Downloading', max=466062.0, style=ProgressStyle(descripti…"
            ]
          },
          "metadata": {
            "tags": []
          }
        },
        {
          "output_type": "stream",
          "text": [
            "\n"
          ],
          "name": "stdout"
        },
        {
          "output_type": "display_data",
          "data": {
            "application/vnd.jupyter.widget-view+json": {
              "model_id": "d69c602426ad4875a369bf1450a50716",
              "version_minor": 0,
              "version_major": 2
            },
            "text/plain": [
              "HBox(children=(FloatProgress(value=0.0, description='Downloading', max=666.0, style=ProgressStyle(description_…"
            ]
          },
          "metadata": {
            "tags": []
          }
        },
        {
          "output_type": "stream",
          "text": [
            "\n"
          ],
          "name": "stdout"
        },
        {
          "output_type": "display_data",
          "data": {
            "application/vnd.jupyter.widget-view+json": {
              "model_id": "781d61860f044e9a8842daa83ea3dfc8",
              "version_minor": 0,
              "version_major": 2
            },
            "text/plain": [
              "HBox(children=(FloatProgress(value=0.0, description='Downloading', max=440343552.0, style=ProgressStyle(descri…"
            ]
          },
          "metadata": {
            "tags": []
          }
        },
        {
          "output_type": "stream",
          "text": [
            "\n"
          ],
          "name": "stdout"
        },
        {
          "output_type": "stream",
          "text": [
            "Some weights of the model checkpoint at google/electra-base-discriminator were not used when initializing ElectraForSequenceClassification: ['discriminator_predictions.dense_prediction.bias', 'discriminator_predictions.dense.weight', 'discriminator_predictions.dense_prediction.weight', 'discriminator_predictions.dense.bias']\n",
            "- This IS expected if you are initializing ElectraForSequenceClassification from the checkpoint of a model trained on another task or with another architecture (e.g. initializing a BertForSequenceClassification model from a BertForPreTraining model).\n",
            "- This IS NOT expected if you are initializing ElectraForSequenceClassification from the checkpoint of a model that you expect to be exactly identical (initializing a BertForSequenceClassification model from a BertForSequenceClassification model).\n",
            "Some weights of ElectraForSequenceClassification were not initialized from the model checkpoint at google/electra-base-discriminator and are newly initialized: ['classifier.dense.bias', 'classifier.out_proj.weight', 'classifier.dense.weight', 'classifier.out_proj.bias']\n",
            "You should probably TRAIN this model on a down-stream task to be able to use it for predictions and inference.\n"
          ],
          "name": "stderr"
        },
        {
          "output_type": "execute_result",
          "data": {
            "text/plain": [
              "ElectraForSequenceClassification(\n",
              "  (electra): ElectraModel(\n",
              "    (embeddings): ElectraEmbeddings(\n",
              "      (word_embeddings): Embedding(30522, 768, padding_idx=0)\n",
              "      (position_embeddings): Embedding(512, 768)\n",
              "      (token_type_embeddings): Embedding(2, 768)\n",
              "      (LayerNorm): LayerNorm((768,), eps=1e-12, elementwise_affine=True)\n",
              "      (dropout): Dropout(p=0.1, inplace=False)\n",
              "    )\n",
              "    (encoder): ElectraEncoder(\n",
              "      (layer): ModuleList(\n",
              "        (0): ElectraLayer(\n",
              "          (attention): ElectraAttention(\n",
              "            (self): ElectraSelfAttention(\n",
              "              (query): Linear(in_features=768, out_features=768, bias=True)\n",
              "              (key): Linear(in_features=768, out_features=768, bias=True)\n",
              "              (value): Linear(in_features=768, out_features=768, bias=True)\n",
              "              (dropout): Dropout(p=0.1, inplace=False)\n",
              "            )\n",
              "            (output): ElectraSelfOutput(\n",
              "              (dense): Linear(in_features=768, out_features=768, bias=True)\n",
              "              (LayerNorm): LayerNorm((768,), eps=1e-12, elementwise_affine=True)\n",
              "              (dropout): Dropout(p=0.1, inplace=False)\n",
              "            )\n",
              "          )\n",
              "          (intermediate): ElectraIntermediate(\n",
              "            (dense): Linear(in_features=768, out_features=3072, bias=True)\n",
              "          )\n",
              "          (output): ElectraOutput(\n",
              "            (dense): Linear(in_features=3072, out_features=768, bias=True)\n",
              "            (LayerNorm): LayerNorm((768,), eps=1e-12, elementwise_affine=True)\n",
              "            (dropout): Dropout(p=0.1, inplace=False)\n",
              "          )\n",
              "        )\n",
              "        (1): ElectraLayer(\n",
              "          (attention): ElectraAttention(\n",
              "            (self): ElectraSelfAttention(\n",
              "              (query): Linear(in_features=768, out_features=768, bias=True)\n",
              "              (key): Linear(in_features=768, out_features=768, bias=True)\n",
              "              (value): Linear(in_features=768, out_features=768, bias=True)\n",
              "              (dropout): Dropout(p=0.1, inplace=False)\n",
              "            )\n",
              "            (output): ElectraSelfOutput(\n",
              "              (dense): Linear(in_features=768, out_features=768, bias=True)\n",
              "              (LayerNorm): LayerNorm((768,), eps=1e-12, elementwise_affine=True)\n",
              "              (dropout): Dropout(p=0.1, inplace=False)\n",
              "            )\n",
              "          )\n",
              "          (intermediate): ElectraIntermediate(\n",
              "            (dense): Linear(in_features=768, out_features=3072, bias=True)\n",
              "          )\n",
              "          (output): ElectraOutput(\n",
              "            (dense): Linear(in_features=3072, out_features=768, bias=True)\n",
              "            (LayerNorm): LayerNorm((768,), eps=1e-12, elementwise_affine=True)\n",
              "            (dropout): Dropout(p=0.1, inplace=False)\n",
              "          )\n",
              "        )\n",
              "        (2): ElectraLayer(\n",
              "          (attention): ElectraAttention(\n",
              "            (self): ElectraSelfAttention(\n",
              "              (query): Linear(in_features=768, out_features=768, bias=True)\n",
              "              (key): Linear(in_features=768, out_features=768, bias=True)\n",
              "              (value): Linear(in_features=768, out_features=768, bias=True)\n",
              "              (dropout): Dropout(p=0.1, inplace=False)\n",
              "            )\n",
              "            (output): ElectraSelfOutput(\n",
              "              (dense): Linear(in_features=768, out_features=768, bias=True)\n",
              "              (LayerNorm): LayerNorm((768,), eps=1e-12, elementwise_affine=True)\n",
              "              (dropout): Dropout(p=0.1, inplace=False)\n",
              "            )\n",
              "          )\n",
              "          (intermediate): ElectraIntermediate(\n",
              "            (dense): Linear(in_features=768, out_features=3072, bias=True)\n",
              "          )\n",
              "          (output): ElectraOutput(\n",
              "            (dense): Linear(in_features=3072, out_features=768, bias=True)\n",
              "            (LayerNorm): LayerNorm((768,), eps=1e-12, elementwise_affine=True)\n",
              "            (dropout): Dropout(p=0.1, inplace=False)\n",
              "          )\n",
              "        )\n",
              "        (3): ElectraLayer(\n",
              "          (attention): ElectraAttention(\n",
              "            (self): ElectraSelfAttention(\n",
              "              (query): Linear(in_features=768, out_features=768, bias=True)\n",
              "              (key): Linear(in_features=768, out_features=768, bias=True)\n",
              "              (value): Linear(in_features=768, out_features=768, bias=True)\n",
              "              (dropout): Dropout(p=0.1, inplace=False)\n",
              "            )\n",
              "            (output): ElectraSelfOutput(\n",
              "              (dense): Linear(in_features=768, out_features=768, bias=True)\n",
              "              (LayerNorm): LayerNorm((768,), eps=1e-12, elementwise_affine=True)\n",
              "              (dropout): Dropout(p=0.1, inplace=False)\n",
              "            )\n",
              "          )\n",
              "          (intermediate): ElectraIntermediate(\n",
              "            (dense): Linear(in_features=768, out_features=3072, bias=True)\n",
              "          )\n",
              "          (output): ElectraOutput(\n",
              "            (dense): Linear(in_features=3072, out_features=768, bias=True)\n",
              "            (LayerNorm): LayerNorm((768,), eps=1e-12, elementwise_affine=True)\n",
              "            (dropout): Dropout(p=0.1, inplace=False)\n",
              "          )\n",
              "        )\n",
              "        (4): ElectraLayer(\n",
              "          (attention): ElectraAttention(\n",
              "            (self): ElectraSelfAttention(\n",
              "              (query): Linear(in_features=768, out_features=768, bias=True)\n",
              "              (key): Linear(in_features=768, out_features=768, bias=True)\n",
              "              (value): Linear(in_features=768, out_features=768, bias=True)\n",
              "              (dropout): Dropout(p=0.1, inplace=False)\n",
              "            )\n",
              "            (output): ElectraSelfOutput(\n",
              "              (dense): Linear(in_features=768, out_features=768, bias=True)\n",
              "              (LayerNorm): LayerNorm((768,), eps=1e-12, elementwise_affine=True)\n",
              "              (dropout): Dropout(p=0.1, inplace=False)\n",
              "            )\n",
              "          )\n",
              "          (intermediate): ElectraIntermediate(\n",
              "            (dense): Linear(in_features=768, out_features=3072, bias=True)\n",
              "          )\n",
              "          (output): ElectraOutput(\n",
              "            (dense): Linear(in_features=3072, out_features=768, bias=True)\n",
              "            (LayerNorm): LayerNorm((768,), eps=1e-12, elementwise_affine=True)\n",
              "            (dropout): Dropout(p=0.1, inplace=False)\n",
              "          )\n",
              "        )\n",
              "        (5): ElectraLayer(\n",
              "          (attention): ElectraAttention(\n",
              "            (self): ElectraSelfAttention(\n",
              "              (query): Linear(in_features=768, out_features=768, bias=True)\n",
              "              (key): Linear(in_features=768, out_features=768, bias=True)\n",
              "              (value): Linear(in_features=768, out_features=768, bias=True)\n",
              "              (dropout): Dropout(p=0.1, inplace=False)\n",
              "            )\n",
              "            (output): ElectraSelfOutput(\n",
              "              (dense): Linear(in_features=768, out_features=768, bias=True)\n",
              "              (LayerNorm): LayerNorm((768,), eps=1e-12, elementwise_affine=True)\n",
              "              (dropout): Dropout(p=0.1, inplace=False)\n",
              "            )\n",
              "          )\n",
              "          (intermediate): ElectraIntermediate(\n",
              "            (dense): Linear(in_features=768, out_features=3072, bias=True)\n",
              "          )\n",
              "          (output): ElectraOutput(\n",
              "            (dense): Linear(in_features=3072, out_features=768, bias=True)\n",
              "            (LayerNorm): LayerNorm((768,), eps=1e-12, elementwise_affine=True)\n",
              "            (dropout): Dropout(p=0.1, inplace=False)\n",
              "          )\n",
              "        )\n",
              "        (6): ElectraLayer(\n",
              "          (attention): ElectraAttention(\n",
              "            (self): ElectraSelfAttention(\n",
              "              (query): Linear(in_features=768, out_features=768, bias=True)\n",
              "              (key): Linear(in_features=768, out_features=768, bias=True)\n",
              "              (value): Linear(in_features=768, out_features=768, bias=True)\n",
              "              (dropout): Dropout(p=0.1, inplace=False)\n",
              "            )\n",
              "            (output): ElectraSelfOutput(\n",
              "              (dense): Linear(in_features=768, out_features=768, bias=True)\n",
              "              (LayerNorm): LayerNorm((768,), eps=1e-12, elementwise_affine=True)\n",
              "              (dropout): Dropout(p=0.1, inplace=False)\n",
              "            )\n",
              "          )\n",
              "          (intermediate): ElectraIntermediate(\n",
              "            (dense): Linear(in_features=768, out_features=3072, bias=True)\n",
              "          )\n",
              "          (output): ElectraOutput(\n",
              "            (dense): Linear(in_features=3072, out_features=768, bias=True)\n",
              "            (LayerNorm): LayerNorm((768,), eps=1e-12, elementwise_affine=True)\n",
              "            (dropout): Dropout(p=0.1, inplace=False)\n",
              "          )\n",
              "        )\n",
              "        (7): ElectraLayer(\n",
              "          (attention): ElectraAttention(\n",
              "            (self): ElectraSelfAttention(\n",
              "              (query): Linear(in_features=768, out_features=768, bias=True)\n",
              "              (key): Linear(in_features=768, out_features=768, bias=True)\n",
              "              (value): Linear(in_features=768, out_features=768, bias=True)\n",
              "              (dropout): Dropout(p=0.1, inplace=False)\n",
              "            )\n",
              "            (output): ElectraSelfOutput(\n",
              "              (dense): Linear(in_features=768, out_features=768, bias=True)\n",
              "              (LayerNorm): LayerNorm((768,), eps=1e-12, elementwise_affine=True)\n",
              "              (dropout): Dropout(p=0.1, inplace=False)\n",
              "            )\n",
              "          )\n",
              "          (intermediate): ElectraIntermediate(\n",
              "            (dense): Linear(in_features=768, out_features=3072, bias=True)\n",
              "          )\n",
              "          (output): ElectraOutput(\n",
              "            (dense): Linear(in_features=3072, out_features=768, bias=True)\n",
              "            (LayerNorm): LayerNorm((768,), eps=1e-12, elementwise_affine=True)\n",
              "            (dropout): Dropout(p=0.1, inplace=False)\n",
              "          )\n",
              "        )\n",
              "        (8): ElectraLayer(\n",
              "          (attention): ElectraAttention(\n",
              "            (self): ElectraSelfAttention(\n",
              "              (query): Linear(in_features=768, out_features=768, bias=True)\n",
              "              (key): Linear(in_features=768, out_features=768, bias=True)\n",
              "              (value): Linear(in_features=768, out_features=768, bias=True)\n",
              "              (dropout): Dropout(p=0.1, inplace=False)\n",
              "            )\n",
              "            (output): ElectraSelfOutput(\n",
              "              (dense): Linear(in_features=768, out_features=768, bias=True)\n",
              "              (LayerNorm): LayerNorm((768,), eps=1e-12, elementwise_affine=True)\n",
              "              (dropout): Dropout(p=0.1, inplace=False)\n",
              "            )\n",
              "          )\n",
              "          (intermediate): ElectraIntermediate(\n",
              "            (dense): Linear(in_features=768, out_features=3072, bias=True)\n",
              "          )\n",
              "          (output): ElectraOutput(\n",
              "            (dense): Linear(in_features=3072, out_features=768, bias=True)\n",
              "            (LayerNorm): LayerNorm((768,), eps=1e-12, elementwise_affine=True)\n",
              "            (dropout): Dropout(p=0.1, inplace=False)\n",
              "          )\n",
              "        )\n",
              "        (9): ElectraLayer(\n",
              "          (attention): ElectraAttention(\n",
              "            (self): ElectraSelfAttention(\n",
              "              (query): Linear(in_features=768, out_features=768, bias=True)\n",
              "              (key): Linear(in_features=768, out_features=768, bias=True)\n",
              "              (value): Linear(in_features=768, out_features=768, bias=True)\n",
              "              (dropout): Dropout(p=0.1, inplace=False)\n",
              "            )\n",
              "            (output): ElectraSelfOutput(\n",
              "              (dense): Linear(in_features=768, out_features=768, bias=True)\n",
              "              (LayerNorm): LayerNorm((768,), eps=1e-12, elementwise_affine=True)\n",
              "              (dropout): Dropout(p=0.1, inplace=False)\n",
              "            )\n",
              "          )\n",
              "          (intermediate): ElectraIntermediate(\n",
              "            (dense): Linear(in_features=768, out_features=3072, bias=True)\n",
              "          )\n",
              "          (output): ElectraOutput(\n",
              "            (dense): Linear(in_features=3072, out_features=768, bias=True)\n",
              "            (LayerNorm): LayerNorm((768,), eps=1e-12, elementwise_affine=True)\n",
              "            (dropout): Dropout(p=0.1, inplace=False)\n",
              "          )\n",
              "        )\n",
              "        (10): ElectraLayer(\n",
              "          (attention): ElectraAttention(\n",
              "            (self): ElectraSelfAttention(\n",
              "              (query): Linear(in_features=768, out_features=768, bias=True)\n",
              "              (key): Linear(in_features=768, out_features=768, bias=True)\n",
              "              (value): Linear(in_features=768, out_features=768, bias=True)\n",
              "              (dropout): Dropout(p=0.1, inplace=False)\n",
              "            )\n",
              "            (output): ElectraSelfOutput(\n",
              "              (dense): Linear(in_features=768, out_features=768, bias=True)\n",
              "              (LayerNorm): LayerNorm((768,), eps=1e-12, elementwise_affine=True)\n",
              "              (dropout): Dropout(p=0.1, inplace=False)\n",
              "            )\n",
              "          )\n",
              "          (intermediate): ElectraIntermediate(\n",
              "            (dense): Linear(in_features=768, out_features=3072, bias=True)\n",
              "          )\n",
              "          (output): ElectraOutput(\n",
              "            (dense): Linear(in_features=3072, out_features=768, bias=True)\n",
              "            (LayerNorm): LayerNorm((768,), eps=1e-12, elementwise_affine=True)\n",
              "            (dropout): Dropout(p=0.1, inplace=False)\n",
              "          )\n",
              "        )\n",
              "        (11): ElectraLayer(\n",
              "          (attention): ElectraAttention(\n",
              "            (self): ElectraSelfAttention(\n",
              "              (query): Linear(in_features=768, out_features=768, bias=True)\n",
              "              (key): Linear(in_features=768, out_features=768, bias=True)\n",
              "              (value): Linear(in_features=768, out_features=768, bias=True)\n",
              "              (dropout): Dropout(p=0.1, inplace=False)\n",
              "            )\n",
              "            (output): ElectraSelfOutput(\n",
              "              (dense): Linear(in_features=768, out_features=768, bias=True)\n",
              "              (LayerNorm): LayerNorm((768,), eps=1e-12, elementwise_affine=True)\n",
              "              (dropout): Dropout(p=0.1, inplace=False)\n",
              "            )\n",
              "          )\n",
              "          (intermediate): ElectraIntermediate(\n",
              "            (dense): Linear(in_features=768, out_features=3072, bias=True)\n",
              "          )\n",
              "          (output): ElectraOutput(\n",
              "            (dense): Linear(in_features=3072, out_features=768, bias=True)\n",
              "            (LayerNorm): LayerNorm((768,), eps=1e-12, elementwise_affine=True)\n",
              "            (dropout): Dropout(p=0.1, inplace=False)\n",
              "          )\n",
              "        )\n",
              "      )\n",
              "    )\n",
              "  )\n",
              "  (classifier): ElectraClassificationHead(\n",
              "    (dense): Linear(in_features=768, out_features=768, bias=True)\n",
              "    (dropout): Dropout(p=0.1, inplace=False)\n",
              "    (out_proj): Linear(in_features=768, out_features=2, bias=True)\n",
              "  )\n",
              ")"
            ]
          },
          "metadata": {
            "tags": []
          },
          "execution_count": 16
        }
      ]
    },
    {
      "cell_type": "code",
      "metadata": {
        "colab": {
          "base_uri": "https://localhost:8080/",
          "height": 334
        },
        "id": "Tb8CAlDpfg5r",
        "outputId": "16bc9cd5-160e-4996-91bc-68966b4277d4"
      },
      "source": [
        "import matplotlib.pyplot as plt\n",
        "\n",
        "def plot_sentence_embeddings_length(text_list,tokenizer):\n",
        "  tokenized_texts = list(map(lambda t: tokenizer.tokenize(t), text_list))\n",
        "  tokenized_texts_len = list(map(lambda t: len(t), tokenized_texts))\n",
        "  fig, ax = plt.subplots(figsize=(8,5)) ;\n",
        "  ax.hist(tokenized_texts_len, bins=40);\n",
        "  ax.set_xlabel(\"Length of Comment Embeddings\");\n",
        "  ax.set_ylabel(\"Number of Comments\");\n",
        "  return\n",
        "plot_sentence_embeddings_length(texts, tokenizer)\n"
      ],
      "execution_count": null,
      "outputs": [
        {
          "output_type": "display_data",
          "data": {
            "image/png": "[encoded data removed]",
            "text/plain": [
              "<Figure size 576x360 with 1 Axes>"
            ]
          },
          "metadata": {
            "tags": [],
            "needs_background": "light"
          }
        }
      ]
    },
    {
      "cell_type": "code",
      "metadata": {
        "colab": {
          "base_uri": "https://localhost:8080/"
        },
        "id": "hMY0074WiXPw",
        "outputId": "bf1d0128-221c-4317-f49d-f09fea01c2d2"
      },
      "source": [
        "indices = tokenizer.batch_encode_plus(texts, max_length=64, add_special_tokens=True,\n",
        "                                return_attention_mask=True, pad_to_max_length=True, truncation=True)\n",
        "\n",
        "input_ids = indices[\"input_ids\"]\n",
        "attention_masks = indices[\"attention_mask\"]"
      ],
      "execution_count": null,
      "outputs": [
        {
          "output_type": "stream",
          "text": [
            "/usr/local/lib/python3.7/dist-packages/transformers/tokenization_utils_base.py:2132: FutureWarning: The `pad_to_max_length` argument is deprecated and will be removed in a future version, use `padding=True` or `padding='longest'` to pad to the longest sequence in the batch, or use `padding='max_length'` to pad to a max length. In this case, you can give a specific length with `max_length` (e.g. `max_length=45`) or leave max_length to None to pad to the maximal input size of the model (e.g. 512 for Bert).\n",
            "  FutureWarning,\n"
          ],
          "name": "stderr"
        }
      ]
    },
    {
      "cell_type": "code",
      "metadata": {
        "id": "2p6hUt-0jGcE"
      },
      "source": [
        "from sklearn.model_selection import train_test_split\n",
        "\n",
        "train_inputs, validation_inputs, train_labels, validation_labels = train_test_split(input_ids, \n",
        "                                                                                    labels, test_size=0.2, \n",
        "                                                                                    random_state=9)\n",
        "train_masks, validation_masks, _, _ = train_test_split(attention_masks,\n",
        "                                                       labels, test_size=0.2,\n",
        "                                                       random_state=9)\n"
      ],
      "execution_count": null,
      "outputs": []
    },
    {
      "cell_type": "code",
      "metadata": {
        "id": "SZlbzlYQkv9O"
      },
      "source": [
        "# Convert our data into torch tensors, the required datatype for our model\n",
        "\n",
        "\n",
        "train_inputs = torch.tensor(train_inputs)\n",
        "validation_inputs = torch.tensor(validation_inputs)\n",
        "\n",
        "train_labels = torch.tensor(train_labels, dtype=torch.long)\n",
        "validation_labels = torch.tensor(validation_labels, dtype=torch.long)\n",
        "\n",
        "train_masks = torch.tensor(train_masks, dtype=torch.long)\n",
        "validation_masks = torch.tensor(validation_masks, dtype = torch.long)\n"
      ],
      "execution_count": null,
      "outputs": []
    },
    {
      "cell_type": "code",
      "metadata": {
        "id": "NP4zZH3kmRZ9"
      },
      "source": [
        "from torch.utils.data import TensorDataset, DataLoader, RandomSampler, SequentialSampler\n",
        "\n",
        "batch_size = 32\n",
        "\n",
        "# Create the DataLoader for our training set.\n",
        "train_data = TensorDataset(train_inputs, train_masks, train_labels)\n",
        "train_sampler = RandomSampler(train_data)\n",
        "train_dataloader = DataLoader(train_data, sampler=train_sampler, batch_size=batch_size)\n",
        "\n",
        "# Create the DataLoader for our validation set.\n",
        "validation_data = TensorDataset(validation_inputs, validation_masks, validation_labels)\n",
        "validation_sampler = SequentialSampler(validation_data)\n",
        "validation_dataloader = DataLoader(validation_data, sampler=validation_sampler, batch_size=batch_size)"
      ],
      "execution_count": null,
      "outputs": []
    },
    {
      "cell_type": "code",
      "metadata": {
        "id": "hr7AhsbPp0FZ"
      },
      "source": [
        "optimizer = AdamW(model.parameters(),\n",
        "                  lr = 6e-6,      #args.learning_rate - default is 5e-5, our notebook had 2e-5\n",
        "                  eps = 1e-8)     # args.adam_epsilon  - default is 1e-8.\n"
      ],
      "execution_count": null,
      "outputs": []
    },
    {
      "cell_type": "code",
      "metadata": {
        "id": "vqi2fSQTrDdP"
      },
      "source": [
        "from transformers import get_linear_schedule_with_warmup\n",
        "\n",
        "# Number of training epochs (authors recommend between 2 and 4)\n",
        "epochs = 4\n",
        "\n",
        "# Total number of training steps is number of batches * number of epochs.\n",
        "total_steps = len(train_dataloader) * epochs\n",
        "\n",
        "# Create the learning rate scheduler.\n",
        "scheduler = get_linear_schedule_with_warmup(optimizer,\n",
        "                                            num_warmup_steps = 0,\n",
        "                                            num_training_steps = total_steps)"
      ],
      "execution_count": null,
      "outputs": []
    },
    {
      "cell_type": "code",
      "metadata": {
        "id": "8A5cI7pfr2J-"
      },
      "source": [
        "def flat_accuracy(preds, labels):\n",
        "  \n",
        "# Function to calculate the accuracy of our predictions vs labels\n",
        "\n",
        "  pred_flat = np.argmax(preds, axis=1).flatten()\n",
        "  labels_flat = labels.flatten()\n",
        "  return np.sum(pred_flat == labels_flat) / len(labels_flat)"
      ],
      "execution_count": null,
      "outputs": []
    },
    {
      "cell_type": "code",
      "metadata": {
        "id": "z6K60gyds5tq"
      },
      "source": [
        "import time\n",
        "import datetime\n",
        "\n",
        "def format_time(elapsed):\n",
        "\n",
        "  '''\n",
        "  Takes a time in seconds and returns a string hh:mm:ss\n",
        "  '''\n",
        "  # Round to the nearest second.\n",
        "  elapsed_rounded = int(round(elapsed))\n",
        "  \n",
        "  # Format as hh:mm:ss\n",
        "  return str(datetime.timedelta(seconds=elapsed_rounded))"
      ],
      "execution_count": null,
      "outputs": []
    },
    {
      "cell_type": "code",
      "metadata": {
        "colab": {
          "base_uri": "https://localhost:8080/"
        },
        "id": "0_1V4mjltkhv",
        "outputId": "1d548a07-cd73-4cc1-e229-e32b561c7b5f"
      },
      "source": [
        "import random\n",
        "\n",
        "# This training code is based on the `run_glue.py` script here:\n",
        "# https://github.com/huggingface/transformers/blob/5bfcd0485ece086ebcbed2d008813037968a9e58/examples/run_glue.py#L128\n",
        "\n",
        "# Set the seed value all over the place to make this reproducible.\n",
        "seed_val = 9\n",
        "\n",
        "random.seed(seed_val)\n",
        "np.random.seed(seed_val)\n",
        "torch.manual_seed(seed_val)\n",
        "torch.cuda.manual_seed_all(seed_val)\n",
        "\n",
        "# Store the average loss after each epoch so we can plot them.\n",
        "loss_values = []\n",
        "\n",
        "# For each epoch...\n",
        "\n",
        "for epoch_i in range(0,epochs):\n",
        "  # ========================================\n",
        "  #               Training\n",
        "  # ========================================\n",
        "  \n",
        "  # Perform one full pass over the training set.\n",
        "\n",
        "  print(\"\")\n",
        "  print('======== Epoch {:} / {:} ========'.format(epoch_i + 1, epochs))\n",
        "  print('Training...')\n",
        "\n",
        "  # Measure how long the training epoch takes.\n",
        "  t0 = time.time()\n",
        "\n",
        "  # Reset the total loss for this epoch.\n",
        "  total_loss = 0\n",
        "  # Put the model into training mode. Don't be mislead--the call to \n",
        "  # `train` just changes the *mode*, it doesn't *perform* the training.\n",
        "  # `dropout` and `batchnorm` layers behave differently during training\n",
        "  # vs. test (source: https://stackoverflow.com/questions/51433378/what-does-model-train-do-in-pytorch)\n",
        "  \n",
        "  model.train()\n",
        "\n",
        "  # For each batch of training data...\n",
        "  for step,batch in enumerate(train_dataloader):\n",
        "\n",
        "    # Progress update every 100 batches.\n",
        "    if step%50 == 0 and not step == 0:\n",
        "      # Calculate elapsed time in minutes.\n",
        "      elapsed = format_time(time.time() - t0)\n",
        "      # Report progress.\n",
        "      print('  Batch {:>5,}  of  {:>5,}.    Elapsed: {:}.'.format(step, len(train_dataloader), elapsed))\n",
        "\n",
        "    # Unpack this training batch from our dataloader. \n",
        "    #\n",
        "    # As we unpack the batch, we'll also copy each tensor to the GPU using the \n",
        "    # `to` method.\n",
        "    #\n",
        "    # `batch` contains three pytorch tensors:\n",
        "    #   [0]: input ids \n",
        "    #   [1]: attention masks\n",
        "    #   [2]: labels \n",
        "    b_input_ids = batch[0].to(device)\n",
        "    b_input_mask = batch[1].to(device)\n",
        "    b_labels = batch[2].to(device)\n",
        "\n",
        "    # Always clear any previously calculated gradients before performing a\n",
        "    # backward pass. PyTorch doesn't do this automatically because \n",
        "    # accumulating the gradients is \"convenient while training RNNs\". \n",
        "    # (source: https://stackoverflow.com/questions/48001598/why-do-we-need-to-call-zero-grad-in-pytorch)\n",
        "\n",
        "    model.zero_grad()\n",
        "    \n",
        "    # Perform a forward pass (evaluate the model on this training batch).\n",
        "    # This will return the loss (rather than the model output) because we\n",
        "    # have provided the `labels`.\n",
        "    # The documentation for this `model` function is here: \n",
        "    # https://huggingface.co/transformers/v2.2.0/model_doc/bert.html#transformers.BertForSequenceClassification\n",
        "\n",
        "    outputs = model(b_input_ids,\n",
        "                    token_type_ids=None,\n",
        "                    attention_mask=b_input_mask,\n",
        "                    labels=b_labels)\n",
        "    # The call to `model` always returns a tuple, so we need to pull the \n",
        "    # loss value out of the tuple.\n",
        "    loss = outputs[0]\n",
        "    \n",
        "    # Accumulate the training loss over all of the batches so that we can\n",
        "    # calculate the average loss at the end. `loss` is a Tensor containing a\n",
        "    # single value; the `.item()` function just returns the Python value \n",
        "    # from the tensor.\n",
        "    total_loss += loss.item()\n",
        "\n",
        "    # Perform a backward pass to calculate the gradients\n",
        "    loss.backward()\n",
        "\n",
        "    # Clip the norm of the gradients to 1.0.\n",
        "    # This is to help prevent the \"exploding gradients\" problem.\n",
        "    torch.nn.utils.clip_grad_norm_(model.parameters(), 1.0)\n",
        "\n",
        "    # Update parameters and take a step using the computed gradient.\n",
        "    # The optimizer dictates the \"update rule\"--how the parameters are\n",
        "    # modified based on their gradients, the learning rate, etc.\n",
        "\n",
        "    optimizer.step()\n",
        "\n",
        "    # Update the learning rate.\n",
        "    scheduler.step()\n",
        "\n",
        "   # Calculate the average loss over the training data.\n",
        "  avg_train_loss = total_loss / len(train_dataloader)\n",
        "   \n",
        "   # Store the loss value for plotting the learning curve.\n",
        "  loss_values.append(avg_train_loss)\n",
        "  print(\"\")\n",
        "  print(\"  Average training loss: {0:.2f}\".format(avg_train_loss))\n",
        "  print(\"  Training epoch took: {:}\".format(format_time(time.time() - t0)))\n",
        "\n",
        "print(\"\")\n",
        "print(\"Training complete!\")\n",
        "\n",
        "\n",
        "\n",
        "\n",
        "\n"
      ],
      "execution_count": null,
      "outputs": [
        {
          "output_type": "stream",
          "text": [
            "\n",
            "======== Epoch 1 / 4 ========\n",
            "Training...\n",
            "  Batch    50  of    190.    Elapsed: 0:00:18.\n",
            "  Batch   100  of    190.    Elapsed: 0:00:38.\n",
            "  Batch   150  of    190.    Elapsed: 0:00:57.\n",
            "\n",
            "  Average training loss: 0.56\n",
            "  Training epoch took: 0:01:13\n",
            "\n",
            "======== Epoch 2 / 4 ========\n",
            "Training...\n",
            "  Batch    50  of    190.    Elapsed: 0:00:19.\n",
            "  Batch   100  of    190.    Elapsed: 0:00:38.\n",
            "  Batch   150  of    190.    Elapsed: 0:00:57.\n",
            "\n",
            "  Average training loss: 0.43\n",
            "  Training epoch took: 0:01:12\n",
            "\n",
            "======== Epoch 3 / 4 ========\n",
            "Training...\n",
            "  Batch    50  of    190.    Elapsed: 0:00:19.\n",
            "  Batch   100  of    190.    Elapsed: 0:00:38.\n",
            "  Batch   150  of    190.    Elapsed: 0:00:57.\n",
            "\n",
            "  Average training loss: 0.39\n",
            "  Training epoch took: 0:01:12\n",
            "\n",
            "======== Epoch 4 / 4 ========\n",
            "Training...\n",
            "  Batch    50  of    190.    Elapsed: 0:00:19.\n",
            "  Batch   100  of    190.    Elapsed: 0:00:38.\n",
            "  Batch   150  of    190.    Elapsed: 0:00:58.\n",
            "\n",
            "  Average training loss: 0.36\n",
            "  Training epoch took: 0:01:13\n",
            "\n",
            "Training complete!\n"
          ],
          "name": "stdout"
        }
      ]
    },
    {
      "cell_type": "code",
      "metadata": {
        "id": "FdshSNtePLIE",
        "colab": {
          "base_uri": "https://localhost:8080/"
        },
        "outputId": "dbca9dbb-d640-4b3d-ddb6-053aaf49e41e"
      },
      "source": [
        "# ========================================\n",
        "#               Validation\n",
        "# ========================================\n",
        "# After the completion of each training epoch, measure our performance on\n",
        "# our validation set.\n",
        "\n",
        "print(\" \")\n",
        "print(\"...Running Validation...\")\n",
        "t0 = time.time()\n",
        "\n",
        "# Put the model in evaluation mode--the dropout layers behave differently\n",
        "# during evaluation.\n",
        "model.eval()\n",
        "\n",
        "\n",
        "preds = []\n",
        "true = []\n",
        "\n",
        "# Tracking variables\n",
        "eval_loss, eval_accuracy = 0,0\n",
        "nb_eval_steps, nb_eval_examples = 0,0\n",
        "\n",
        "# Evaluate data for one epoch\n",
        "for batch in validation_dataloader:\n",
        "\n",
        "  # Add batch to GPU\n",
        "  batch = tuple(t.to(device) for t in batch)\n",
        "\n",
        "  # Unpack the inputs from our dataloader\n",
        "  b_input_ids, b_input_mask, b_labels = batch\n",
        "\n",
        "  # Telling the model not to compute or store gradients, saving memory and\n",
        "  # speeding up validation\n",
        "  with torch.no_grad():\n",
        "    # Forward pass, calculate logit predictions.\n",
        "    # This will return the logits rather than the loss because we have\n",
        "    # not provided labels.\n",
        "    # token_type_ids is the same as the \"segment ids\", which \n",
        "    # differentiates sentence 1 and 2 in 2-sentence tasks.\n",
        "    outputs = model(b_input_ids,\n",
        "                    token_type_ids=None,\n",
        "                    attention_mask=b_input_mask)\n",
        "    \n",
        "  # Get the \"logits\" output by the model. The \"logits\" are the output\n",
        "  # values prior to applying an activation function like the softmax.\n",
        "  logits = outputs[0]\n",
        "\n",
        "  # Move logits and labels to CPU\n",
        "  logits = logits.detach().cpu().numpy()\n",
        "  label_ids = b_labels.to(\"cpu\").numpy()\n",
        "\n",
        "  preds.append(logits)\n",
        "  true.append(label_ids)\n",
        "  # Calculate the accuracy for this batch of test sentences.\n",
        "  tmp_eval_accuracy = flat_accuracy(logits, label_ids)\n",
        "\n",
        "  # Accumulate the total accuracy.\n",
        "  eval_accuracy += tmp_eval_accuracy\n",
        "\n",
        "  # Track the number of batches\n",
        "  nb_eval_steps += 1\n",
        "\n",
        "# Report the final accuracy for this validation run.\n",
        "print(\"  Accuracy: {0:.2f}\".format(eval_accuracy/nb_eval_steps))\n",
        "print(\"  Validation took: {:}\".format(format_time(time.time() - t0)))"
      ],
      "execution_count": null,
      "outputs": [
        {
          "output_type": "stream",
          "text": [
            " \n",
            "...Running Validation...\n",
            "  Accuracy: 0.83\n",
            "  Validation took: 0:00:07\n"
          ],
          "name": "stdout"
        }
      ]
    },
    {
      "cell_type": "code",
      "metadata": {
        "id": "WSzr99hklIUn"
      },
      "source": [
        "# Combine the predictions for each batch into a single list of 0s and 1s.\n",
        "flat_predictions = [item for sublist in preds for item in sublist]\n",
        "flat_predictions = np.argmax(flat_predictions, axis=1).flatten()\n",
        "# Combine the correct labels for each batch into a single list.\n",
        "flat_true_labels = [item for sublist in true for item in sublist]\n"
      ],
      "execution_count": null,
      "outputs": []
    },
    {
      "cell_type": "code",
      "metadata": {
        "colab": {
          "base_uri": "https://localhost:8080/"
        },
        "id": "qOw8Jk0Fn2Y4",
        "outputId": "d24b5924-ef4a-4549-c4c2-5943900c623c"
      },
      "source": [
        "from sklearn.metrics import classification_report\n",
        "print(classification_report(flat_predictions,flat_true_labels))"
      ],
      "execution_count": null,
      "outputs": [
        {
          "output_type": "stream",
          "text": [
            "              precision    recall  f1-score   support\n",
            "\n",
            "           0       0.89      0.81      0.85       932\n",
            "           1       0.74      0.85      0.79       581\n",
            "\n",
            "    accuracy                           0.83      1513\n",
            "   macro avg       0.82      0.83      0.82      1513\n",
            "weighted avg       0.83      0.83      0.83      1513\n",
            "\n"
          ],
          "name": "stdout"
        }
      ]
    },
    {
      "cell_type": "code",
      "metadata": {
        "colab": {
          "base_uri": "https://localhost:8080/"
        },
        "id": "QUEjSmEmn50B",
        "outputId": "4b484c1a-b331-4fb9-802c-655f40a73b22"
      },
      "source": [
        "comments1 = df_test.text.values\n",
        "\n",
        "indices1 = tokenizer.batch_encode_plus(comments1, add_special_tokens=True,max_length=128,\n",
        "                                 return_attention_mask=True,pad_to_max_length=True,truncation=True)\n",
        "input_ids1 = indices1[\"input_ids\"]\n",
        "attention_mask1 = indices1[\"attention_mask\"]\n",
        "\n",
        "prediction_inputs1 = torch.tensor(input_ids1)\n",
        "prediction_masks1 = torch.tensor(attention_mask1)\n",
        "\n",
        "\n",
        "# Set the batch size.\n",
        "batch_size = 32\n",
        "\n",
        "# Create the DataLoader.\n",
        "prediction_data1 = TensorDataset(prediction_inputs1, prediction_masks1)\n",
        "prediction_sampler = SequentialSampler(prediction_data1)\n",
        "prediction_dataloader1 = DataLoader(prediction_data1, sampler=prediction_sampler, batch_size=batch_size)"
      ],
      "execution_count": null,
      "outputs": [
        {
          "output_type": "stream",
          "text": [
            "/usr/local/lib/python3.7/dist-packages/transformers/tokenization_utils_base.py:2132: FutureWarning: The `pad_to_max_length` argument is deprecated and will be removed in a future version, use `padding=True` or `padding='longest'` to pad to the longest sequence in the batch, or use `padding='max_length'` to pad to a max length. In this case, you can give a specific length with `max_length` (e.g. `max_length=45`) or leave max_length to None to pad to the maximal input size of the model (e.g. 512 for Bert).\n",
            "  FutureWarning,\n"
          ],
          "name": "stderr"
        }
      ]
    },
    {
      "cell_type": "code",
      "metadata": {
        "colab": {
          "base_uri": "https://localhost:8080/"
        },
        "id": "vXUd9t7nryN0",
        "outputId": "2837163c-6ad8-46bf-c5f7-5efa355a6580"
      },
      "source": [
        "print('Predicting labels for {:,} test sentences...'.format(len(prediction_inputs1)))\n",
        "\n",
        "# Put model in evaluation mode\n",
        "model.eval()\n",
        "\n",
        "# Tracking variables\n",
        "predictions = []\n",
        "\n",
        "# Predict \n",
        "for batch in prediction_dataloader1:\n",
        "  # Add batch to GPU\n",
        "  batch = tuple(t.to(device) for t in batch)\n",
        "\n",
        "  # Unpack the inputs from our dataloader\n",
        "  b_input_ids1, b_input_mask1 = batch\n",
        "\n",
        "  # Telling the model not to compute or store gradients, saving memory and \n",
        "  # speeding up prediction\n",
        "  with torch.no_grad():\n",
        "    # Forward pass, calculate logit predictions\n",
        "    outputs1 = model(b_input_ids1,token_type_ids=None,attention_mask=b_input_mask1)\n",
        "\n",
        "  logits1 = outputs1[0]\n",
        "\n",
        "  # Move logits and labels to CPU\n",
        "  logits1 = logits1.detach().cpu().numpy()\n",
        "\n",
        "  # Store predictions and true labels\n",
        "  predictions.append(logits1)\n",
        "\n",
        "flat_predictions = [item for sublist in predictions for item in sublist]\n",
        "flat_predictions = np.argmax(flat_predictions, axis=1).flatten()\n"
      ],
      "execution_count": null,
      "outputs": [
        {
          "output_type": "stream",
          "text": [
            "Predicting labels for 3,263 test sentences...\n"
          ],
          "name": "stdout"
        }
      ]
    },
    {
      "cell_type": "code",
      "metadata": {
        "colab": {
          "base_uri": "https://localhost:8080/",
          "height": 204
        },
        "id": "VBuHYR_BuSRN",
        "outputId": "a4fac147-e3b6-4aff-8b05-931da0bad670"
      },
      "source": [
        "df_test.head()"
      ],
      "execution_count": null,
      "outputs": [
        {
          "output_type": "execute_result",
          "data": {
            "text/html": [
              "<div>\n",
              "<style scoped>\n",
              "    .dataframe tbody tr th:only-of-type {\n",
              "        vertical-align: middle;\n",
              "    }\n",
              "\n",
              "    .dataframe tbody tr th {\n",
              "        vertical-align: top;\n",
              "    }\n",
              "\n",
              "    .dataframe thead th {\n",
              "        text-align: right;\n",
              "    }\n",
              "</style>\n",
              "<table border=\"1\" class=\"dataframe\">\n",
              "  <thead>\n",
              "    <tr style=\"text-align: right;\">\n",
              "      <th></th>\n",
              "      <th>id</th>\n",
              "      <th>keyword</th>\n",
              "      <th>location</th>\n",
              "      <th>text</th>\n",
              "    </tr>\n",
              "  </thead>\n",
              "  <tbody>\n",
              "    <tr>\n",
              "      <th>0</th>\n",
              "      <td>0</td>\n",
              "      <td>NaN</td>\n",
              "      <td>NaN</td>\n",
              "      <td>just happened a terrible car crash</td>\n",
              "    </tr>\n",
              "    <tr>\n",
              "      <th>1</th>\n",
              "      <td>2</td>\n",
              "      <td>NaN</td>\n",
              "      <td>NaN</td>\n",
              "      <td>heard about earthquake is different cities sta...</td>\n",
              "    </tr>\n",
              "    <tr>\n",
              "      <th>2</th>\n",
              "      <td>3</td>\n",
              "      <td>NaN</td>\n",
              "      <td>NaN</td>\n",
              "      <td>there is a forest fire at spot pond geese are ...</td>\n",
              "    </tr>\n",
              "    <tr>\n",
              "      <th>3</th>\n",
              "      <td>9</td>\n",
              "      <td>NaN</td>\n",
              "      <td>NaN</td>\n",
              "      <td>apocalypse lighting spokane wildfires</td>\n",
              "    </tr>\n",
              "    <tr>\n",
              "      <th>4</th>\n",
              "      <td>11</td>\n",
              "      <td>NaN</td>\n",
              "      <td>NaN</td>\n",
              "      <td>typhoon soudelor kills 28 in china and taiwan</td>\n",
              "    </tr>\n",
              "  </tbody>\n",
              "</table>\n",
              "</div>"
            ],
            "text/plain": [
              "   id keyword location                                               text\n",
              "0   0     NaN      NaN                 just happened a terrible car crash\n",
              "1   2     NaN      NaN  heard about earthquake is different cities sta...\n",
              "2   3     NaN      NaN  there is a forest fire at spot pond geese are ...\n",
              "3   9     NaN      NaN              apocalypse lighting spokane wildfires\n",
              "4  11     NaN      NaN      typhoon soudelor kills 28 in china and taiwan"
            ]
          },
          "metadata": {
            "tags": []
          },
          "execution_count": 35
        }
      ]
    },
    {
      "cell_type": "code",
      "metadata": {
        "id": "IqbgqF7Budqb"
      },
      "source": [
        "sample_sub = pd.read_csv(\"/content/gdrive/My Drive/Disaster Tweet/sample_submission.csv\")\n",
        "submit = pd.DataFrame({'id':sample_sub['id'].values.tolist(),'target':flat_predictions})"
      ],
      "execution_count": null,
      "outputs": []
    },
    {
      "cell_type": "code",
      "metadata": {
        "id": "kCxdBaJ3zbcX"
      },
      "source": [
        "submit.to_csv('submission.csv',index=False)"
      ],
      "execution_count": null,
      "outputs": []
    },
    {
      "cell_type": "code",
      "metadata": {
        "id": "PdkdHlWnzckz"
      },
      "source": [
        "# 82.86% accuracy with test data"
      ],
      "execution_count": null,
      "outputs": []
    }
  ]
}